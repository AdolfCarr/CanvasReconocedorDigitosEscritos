{
  "nbformat": 4,
  "nbformat_minor": 0,
  "metadata": {
    "colab": {
      "provenance": [],
      "authorship_tag": "ABX9TyNVs8KVUgOOA0bBDH9hr5kw"
    },
    "kernelspec": {
      "name": "python3",
      "display_name": "Python 3"
    },
    "language_info": {
      "name": "python"
    }
  },
  "cells": [
    {
      "cell_type": "markdown",
      "source": [
        "Importa las bibliotecas necesarias:"
      ],
      "metadata": {
        "id": "s0qS6UnqfwTR"
      }
    },
    {
      "cell_type": "code",
      "source": [
        "import tensorflow as tf\n",
        "from google.colab import files\n",
        "from tensorflow.keras.datasets import mnist\n",
        "from tensorflow.keras.models import Sequential\n",
        "from tensorflow.keras.layers import Dense, Flatten, Conv2D, MaxPooling2D\n",
        "from keras.utils import np_utils\n",
        "import numpy as np"
      ],
      "metadata": {
        "id": "s017xKw3f1rp"
      },
      "execution_count": 27,
      "outputs": []
    },
    {
      "cell_type": "markdown",
      "source": [
        "Carga el conjunto de datos MNIST:"
      ],
      "metadata": {
        "id": "4f46wr8rf9Bu"
      }
    },
    {
      "cell_type": "code",
      "source": [
        "(X_train, y_train), (X_test, y_test) = mnist.load_data()"
      ],
      "metadata": {
        "id": "I1KMtP-rgAJx"
      },
      "execution_count": 28,
      "outputs": []
    },
    {
      "cell_type": "markdown",
      "source": [
        "Reshape input data to be (num_samples, height, width, depth)"
      ],
      "metadata": {
        "id": "KIAsAOrBKtrJ"
      }
    },
    {
      "cell_type": "code",
      "source": [
        "X_train = X_train.reshape((X_train.shape[0], 28, 28, 1)).astype('float32')\n",
        "X_test = X_test.reshape((X_test.shape[0], 28, 28, 1)).astype('float32')"
      ],
      "metadata": {
        "id": "eMg8ohF0Kz8k"
      },
      "execution_count": 29,
      "outputs": []
    },
    {
      "cell_type": "markdown",
      "source": [
        "normalize inputs from 0-255 to 0-1"
      ],
      "metadata": {
        "id": "B2hxKHdfgIe0"
      }
    },
    {
      "cell_type": "code",
      "source": [
        "X_train = X_train / 255\n",
        "X_test = X_test / 255"
      ],
      "metadata": {
        "id": "21Z-LnrZgK1V"
      },
      "execution_count": 30,
      "outputs": []
    },
    {
      "cell_type": "markdown",
      "source": [
        "One hot encode outputs"
      ],
      "metadata": {
        "id": "5qkv5xqJLB16"
      }
    },
    {
      "cell_type": "code",
      "source": [
        "y_train = np_utils.to_categorical(y_train)\n",
        "y_test = np_utils.to_categorical(y_test)\n",
        "\n",
        "\n"
      ],
      "metadata": {
        "id": "Qmm2ifzjGdas"
      },
      "execution_count": 8,
      "outputs": []
    },
    {
      "cell_type": "markdown",
      "source": [
        "Convert y_train and y_test to integer labels"
      ],
      "metadata": {
        "id": "MGHZO4btLLoC"
      }
    },
    {
      "cell_type": "code",
      "source": [
        "y_train = np.argmax(y_train, axis=1)\n",
        "y_test = np.argmax(y_test, axis=1)"
      ],
      "metadata": {
        "id": "a_dtx-ZVLPUm"
      },
      "execution_count": 9,
      "outputs": []
    },
    {
      "cell_type": "markdown",
      "source": [
        "Crea el modelo secuencial:"
      ],
      "metadata": {
        "id": "DrH62BO4gMvB"
      }
    },
    {
      "cell_type": "code",
      "source": [
        "\n",
        "model_seq = Sequential([\n",
        "    Flatten(input_shape=(28, 28,1)),\n",
        "    Dense(128, activation='relu'),\n",
        "    Dense(64, activation='relu'),\n",
        "    Dense(10, activation='softmax')\n",
        "])"
      ],
      "metadata": {
        "id": "iBtUccl7gO7f"
      },
      "execution_count": 10,
      "outputs": []
    },
    {
      "cell_type": "markdown",
      "source": [
        "Compila y entrena el modelo secuencial:"
      ],
      "metadata": {
        "id": "Q_I4e4CygQxq"
      }
    },
    {
      "cell_type": "code",
      "source": [
        "model_seq.compile(optimizer='adam', loss='sparse_categorical_crossentropy', metrics=['accuracy'])\n",
        "\n"
      ],
      "metadata": {
        "id": "NGBCjNnzgSk6"
      },
      "execution_count": 11,
      "outputs": []
    },
    {
      "cell_type": "markdown",
      "source": [
        "Train the model"
      ],
      "metadata": {
        "id": "AF71R6pJLbIM"
      }
    },
    {
      "cell_type": "code",
      "source": [
        "model_seq.fit(X_train, y_train, epochs=60, validation_data=(X_test, y_test))"
      ],
      "metadata": {
        "colab": {
          "base_uri": "https://localhost:8080/"
        },
        "id": "bCbhDYvCLgYQ",
        "outputId": "0e9d2892-78c7-4d95-9878-aac1abf5b75c"
      },
      "execution_count": 12,
      "outputs": [
        {
          "output_type": "stream",
          "name": "stdout",
          "text": [
            "Epoch 1/60\n",
            "1875/1875 [==============================] - 7s 3ms/step - loss: 0.2345 - accuracy: 0.9310 - val_loss: 0.1258 - val_accuracy: 0.9612\n",
            "Epoch 2/60\n",
            "1875/1875 [==============================] - 5s 3ms/step - loss: 0.1004 - accuracy: 0.9693 - val_loss: 0.0965 - val_accuracy: 0.9674\n",
            "Epoch 3/60\n",
            "1875/1875 [==============================] - 7s 4ms/step - loss: 0.0689 - accuracy: 0.9781 - val_loss: 0.0906 - val_accuracy: 0.9716\n",
            "Epoch 4/60\n",
            "1875/1875 [==============================] - 5s 3ms/step - loss: 0.0537 - accuracy: 0.9830 - val_loss: 0.0848 - val_accuracy: 0.9734\n",
            "Epoch 5/60\n",
            "1875/1875 [==============================] - 5s 3ms/step - loss: 0.0428 - accuracy: 0.9862 - val_loss: 0.0771 - val_accuracy: 0.9763\n",
            "Epoch 6/60\n",
            "1875/1875 [==============================] - 5s 3ms/step - loss: 0.0339 - accuracy: 0.9889 - val_loss: 0.0884 - val_accuracy: 0.9749\n",
            "Epoch 7/60\n",
            "1875/1875 [==============================] - 6s 3ms/step - loss: 0.0301 - accuracy: 0.9899 - val_loss: 0.1108 - val_accuracy: 0.9708\n",
            "Epoch 8/60\n",
            "1875/1875 [==============================] - 5s 3ms/step - loss: 0.0246 - accuracy: 0.9918 - val_loss: 0.0753 - val_accuracy: 0.9795\n",
            "Epoch 9/60\n",
            "1875/1875 [==============================] - 6s 3ms/step - loss: 0.0213 - accuracy: 0.9930 - val_loss: 0.0810 - val_accuracy: 0.9789\n",
            "Epoch 10/60\n",
            "1875/1875 [==============================] - 5s 3ms/step - loss: 0.0192 - accuracy: 0.9934 - val_loss: 0.0818 - val_accuracy: 0.9784\n",
            "Epoch 11/60\n",
            "1875/1875 [==============================] - 6s 3ms/step - loss: 0.0166 - accuracy: 0.9945 - val_loss: 0.0999 - val_accuracy: 0.9748\n",
            "Epoch 12/60\n",
            "1875/1875 [==============================] - 6s 3ms/step - loss: 0.0163 - accuracy: 0.9943 - val_loss: 0.1178 - val_accuracy: 0.9731\n",
            "Epoch 13/60\n",
            "1875/1875 [==============================] - 6s 3ms/step - loss: 0.0131 - accuracy: 0.9950 - val_loss: 0.1093 - val_accuracy: 0.9766\n",
            "Epoch 14/60\n",
            "1875/1875 [==============================] - 6s 3ms/step - loss: 0.0135 - accuracy: 0.9955 - val_loss: 0.1004 - val_accuracy: 0.9796\n",
            "Epoch 15/60\n",
            "1875/1875 [==============================] - 6s 3ms/step - loss: 0.0123 - accuracy: 0.9960 - val_loss: 0.1083 - val_accuracy: 0.9787\n",
            "Epoch 16/60\n",
            "1875/1875 [==============================] - 6s 3ms/step - loss: 0.0111 - accuracy: 0.9963 - val_loss: 0.1304 - val_accuracy: 0.9724\n",
            "Epoch 17/60\n",
            "1875/1875 [==============================] - 6s 3ms/step - loss: 0.0119 - accuracy: 0.9963 - val_loss: 0.1122 - val_accuracy: 0.9766\n",
            "Epoch 18/60\n",
            "1875/1875 [==============================] - 6s 3ms/step - loss: 0.0113 - accuracy: 0.9965 - val_loss: 0.1145 - val_accuracy: 0.9787\n",
            "Epoch 19/60\n",
            "1875/1875 [==============================] - 6s 3ms/step - loss: 0.0115 - accuracy: 0.9963 - val_loss: 0.1258 - val_accuracy: 0.9785\n",
            "Epoch 20/60\n",
            "1875/1875 [==============================] - 6s 3ms/step - loss: 0.0079 - accuracy: 0.9973 - val_loss: 0.1229 - val_accuracy: 0.9791\n",
            "Epoch 21/60\n",
            "1875/1875 [==============================] - 5s 3ms/step - loss: 0.0113 - accuracy: 0.9964 - val_loss: 0.1137 - val_accuracy: 0.9799\n",
            "Epoch 22/60\n",
            "1875/1875 [==============================] - 6s 3ms/step - loss: 0.0087 - accuracy: 0.9972 - val_loss: 0.1248 - val_accuracy: 0.9803\n",
            "Epoch 23/60\n",
            "1875/1875 [==============================] - 5s 3ms/step - loss: 0.0059 - accuracy: 0.9981 - val_loss: 0.1360 - val_accuracy: 0.9788\n",
            "Epoch 24/60\n",
            "1875/1875 [==============================] - 6s 3ms/step - loss: 0.0116 - accuracy: 0.9962 - val_loss: 0.1628 - val_accuracy: 0.9782\n",
            "Epoch 25/60\n",
            "1875/1875 [==============================] - 5s 3ms/step - loss: 0.0058 - accuracy: 0.9980 - val_loss: 0.1446 - val_accuracy: 0.9771\n",
            "Epoch 26/60\n",
            "1875/1875 [==============================] - 6s 3ms/step - loss: 0.0062 - accuracy: 0.9981 - val_loss: 0.1262 - val_accuracy: 0.9811\n",
            "Epoch 27/60\n",
            "1875/1875 [==============================] - 5s 3ms/step - loss: 0.0094 - accuracy: 0.9970 - val_loss: 0.1320 - val_accuracy: 0.9787\n",
            "Epoch 28/60\n",
            "1875/1875 [==============================] - 6s 3ms/step - loss: 0.0087 - accuracy: 0.9975 - val_loss: 0.1570 - val_accuracy: 0.9771\n",
            "Epoch 29/60\n",
            "1875/1875 [==============================] - 5s 3ms/step - loss: 0.0062 - accuracy: 0.9979 - val_loss: 0.1597 - val_accuracy: 0.9759\n",
            "Epoch 30/60\n",
            "1875/1875 [==============================] - 6s 3ms/step - loss: 0.0063 - accuracy: 0.9980 - val_loss: 0.1686 - val_accuracy: 0.9764\n",
            "Epoch 31/60\n",
            "1875/1875 [==============================] - 6s 3ms/step - loss: 0.0078 - accuracy: 0.9977 - val_loss: 0.1634 - val_accuracy: 0.9763\n",
            "Epoch 32/60\n",
            "1875/1875 [==============================] - 6s 3ms/step - loss: 0.0080 - accuracy: 0.9974 - val_loss: 0.1496 - val_accuracy: 0.9784\n",
            "Epoch 33/60\n",
            "1875/1875 [==============================] - 6s 3ms/step - loss: 0.0068 - accuracy: 0.9978 - val_loss: 0.1727 - val_accuracy: 0.9771\n",
            "Epoch 34/60\n",
            "1875/1875 [==============================] - 6s 3ms/step - loss: 0.0067 - accuracy: 0.9978 - val_loss: 0.1589 - val_accuracy: 0.9784\n",
            "Epoch 35/60\n",
            "1875/1875 [==============================] - 5s 3ms/step - loss: 0.0076 - accuracy: 0.9977 - val_loss: 0.1530 - val_accuracy: 0.9793\n",
            "Epoch 36/60\n",
            "1875/1875 [==============================] - 5s 3ms/step - loss: 0.0085 - accuracy: 0.9974 - val_loss: 0.1626 - val_accuracy: 0.9783\n",
            "Epoch 37/60\n",
            "1875/1875 [==============================] - 6s 3ms/step - loss: 0.0054 - accuracy: 0.9984 - val_loss: 0.1808 - val_accuracy: 0.9782\n",
            "Epoch 38/60\n",
            "1875/1875 [==============================] - 6s 3ms/step - loss: 0.0079 - accuracy: 0.9980 - val_loss: 0.1859 - val_accuracy: 0.9775\n",
            "Epoch 39/60\n",
            "1875/1875 [==============================] - 5s 3ms/step - loss: 0.0072 - accuracy: 0.9977 - val_loss: 0.1878 - val_accuracy: 0.9777\n",
            "Epoch 40/60\n",
            "1875/1875 [==============================] - 5s 3ms/step - loss: 0.0065 - accuracy: 0.9983 - val_loss: 0.1901 - val_accuracy: 0.9785\n",
            "Epoch 41/60\n",
            "1875/1875 [==============================] - 6s 3ms/step - loss: 0.0066 - accuracy: 0.9980 - val_loss: 0.1773 - val_accuracy: 0.9771\n",
            "Epoch 42/60\n",
            "1875/1875 [==============================] - 5s 3ms/step - loss: 0.0076 - accuracy: 0.9979 - val_loss: 0.1861 - val_accuracy: 0.9788\n",
            "Epoch 43/60\n",
            "1875/1875 [==============================] - 6s 3ms/step - loss: 0.0059 - accuracy: 0.9983 - val_loss: 0.1816 - val_accuracy: 0.9803\n",
            "Epoch 44/60\n",
            "1875/1875 [==============================] - 6s 3ms/step - loss: 0.0067 - accuracy: 0.9980 - val_loss: 0.1767 - val_accuracy: 0.9798\n",
            "Epoch 45/60\n",
            "1875/1875 [==============================] - 6s 3ms/step - loss: 0.0058 - accuracy: 0.9985 - val_loss: 0.1655 - val_accuracy: 0.9817\n",
            "Epoch 46/60\n",
            "1875/1875 [==============================] - 5s 3ms/step - loss: 0.0082 - accuracy: 0.9978 - val_loss: 0.2163 - val_accuracy: 0.9776\n",
            "Epoch 47/60\n",
            "1875/1875 [==============================] - 6s 3ms/step - loss: 0.0057 - accuracy: 0.9983 - val_loss: 0.1865 - val_accuracy: 0.9808\n",
            "Epoch 48/60\n",
            "1875/1875 [==============================] - 5s 3ms/step - loss: 0.0056 - accuracy: 0.9985 - val_loss: 0.1777 - val_accuracy: 0.9791\n",
            "Epoch 49/60\n",
            "1875/1875 [==============================] - 6s 3ms/step - loss: 0.0062 - accuracy: 0.9983 - val_loss: 0.1979 - val_accuracy: 0.9789\n",
            "Epoch 50/60\n",
            "1875/1875 [==============================] - 5s 3ms/step - loss: 0.0072 - accuracy: 0.9981 - val_loss: 0.1752 - val_accuracy: 0.9809\n",
            "Epoch 51/60\n",
            "1875/1875 [==============================] - 7s 4ms/step - loss: 0.0051 - accuracy: 0.9987 - val_loss: 0.1914 - val_accuracy: 0.9787\n",
            "Epoch 52/60\n",
            "1875/1875 [==============================] - 5s 3ms/step - loss: 0.0045 - accuracy: 0.9987 - val_loss: 0.1937 - val_accuracy: 0.9822\n",
            "Epoch 53/60\n",
            "1875/1875 [==============================] - 5s 3ms/step - loss: 0.0076 - accuracy: 0.9980 - val_loss: 0.1913 - val_accuracy: 0.9801\n",
            "Epoch 54/60\n",
            "1875/1875 [==============================] - 6s 3ms/step - loss: 0.0036 - accuracy: 0.9989 - val_loss: 0.2081 - val_accuracy: 0.9791\n",
            "Epoch 55/60\n",
            "1875/1875 [==============================] - 5s 3ms/step - loss: 0.0079 - accuracy: 0.9980 - val_loss: 0.1765 - val_accuracy: 0.9812\n",
            "Epoch 56/60\n",
            "1875/1875 [==============================] - 6s 3ms/step - loss: 0.0042 - accuracy: 0.9988 - val_loss: 0.2008 - val_accuracy: 0.9815\n",
            "Epoch 57/60\n",
            "1875/1875 [==============================] - 5s 3ms/step - loss: 0.0053 - accuracy: 0.9987 - val_loss: 0.2214 - val_accuracy: 0.9776\n",
            "Epoch 58/60\n",
            "1875/1875 [==============================] - 6s 3ms/step - loss: 0.0067 - accuracy: 0.9982 - val_loss: 0.2259 - val_accuracy: 0.9769\n",
            "Epoch 59/60\n",
            "1875/1875 [==============================] - 6s 3ms/step - loss: 0.0070 - accuracy: 0.9983 - val_loss: 0.1976 - val_accuracy: 0.9807\n",
            "Epoch 60/60\n",
            "1875/1875 [==============================] - 6s 3ms/step - loss: 0.0025 - accuracy: 0.9992 - val_loss: 0.2021 - val_accuracy: 0.9812\n"
          ]
        },
        {
          "output_type": "execute_result",
          "data": {
            "text/plain": [
              "<keras.callbacks.History at 0x7f1f2024bc40>"
            ]
          },
          "metadata": {},
          "execution_count": 12
        }
      ]
    },
    {
      "cell_type": "code",
      "source": [
        "!pip install tensorflowjs"
      ],
      "metadata": {
        "colab": {
          "base_uri": "https://localhost:8080/"
        },
        "id": "XMdM7vC-RzcX",
        "outputId": "9dc19dfb-bf02-41f0-c350-dcffbe1db149"
      },
      "execution_count": 13,
      "outputs": [
        {
          "output_type": "stream",
          "name": "stdout",
          "text": [
            "Looking in indexes: https://pypi.org/simple, https://us-python.pkg.dev/colab-wheels/public/simple/\n",
            "Collecting tensorflowjs\n",
            "  Downloading tensorflowjs-4.4.0-py3-none-any.whl (85 kB)\n",
            "\u001b[2K     \u001b[90m━━━━━━━━━━━━━━━━━━━━━━━━━━━━━━━━━━━━━━━━\u001b[0m \u001b[32m85.1/85.1 kB\u001b[0m \u001b[31m6.8 MB/s\u001b[0m eta \u001b[36m0:00:00\u001b[0m\n",
            "\u001b[?25hCollecting packaging~=20.9\n",
            "  Downloading packaging-20.9-py2.py3-none-any.whl (40 kB)\n",
            "\u001b[2K     \u001b[90m━━━━━━━━━━━━━━━━━━━━━━━━━━━━━━━━━━━━━━━━\u001b[0m \u001b[32m40.9/40.9 kB\u001b[0m \u001b[31m4.4 MB/s\u001b[0m eta \u001b[36m0:00:00\u001b[0m\n",
            "\u001b[?25hRequirement already satisfied: tensorflow<3,>=2.10.0 in /usr/local/lib/python3.9/dist-packages (from tensorflowjs) (2.12.0)\n",
            "Collecting tensorflow-hub<0.13,>=0.7.0\n",
            "  Downloading tensorflow_hub-0.12.0-py2.py3-none-any.whl (108 kB)\n",
            "\u001b[2K     \u001b[90m━━━━━━━━━━━━━━━━━━━━━━━━━━━━━━━━━━━━━━\u001b[0m \u001b[32m108.8/108.8 kB\u001b[0m \u001b[31m13.7 MB/s\u001b[0m eta \u001b[36m0:00:00\u001b[0m\n",
            "\u001b[?25hCollecting protobuf<3.20,>=3.9.2\n",
            "  Downloading protobuf-3.19.6-cp39-cp39-manylinux_2_17_x86_64.manylinux2014_x86_64.whl (1.1 MB)\n",
            "\u001b[2K     \u001b[90m━━━━━━━━━━━━━━━━━━━━━━━━━━━━━━━━━━━━━━━━\u001b[0m \u001b[32m1.1/1.1 MB\u001b[0m \u001b[31m47.7 MB/s\u001b[0m eta \u001b[36m0:00:00\u001b[0m\n",
            "\u001b[?25hRequirement already satisfied: jax>=0.3.16 in /usr/local/lib/python3.9/dist-packages (from tensorflowjs) (0.4.8)\n",
            "Requirement already satisfied: importlib_resources>=5.9.0 in /usr/local/lib/python3.9/dist-packages (from tensorflowjs) (5.12.0)\n",
            "Requirement already satisfied: six<2,>=1.12.0 in /usr/local/lib/python3.9/dist-packages (from tensorflowjs) (1.16.0)\n",
            "Requirement already satisfied: flax>=0.6.2 in /usr/local/lib/python3.9/dist-packages (from tensorflowjs) (0.6.8)\n",
            "Collecting tensorflow-decision-forests>=1.0.1\n",
            "  Downloading tensorflow_decision_forests-1.3.0-cp39-cp39-manylinux_2_17_x86_64.manylinux2014_x86_64.whl (16.4 MB)\n",
            "\u001b[2K     \u001b[90m━━━━━━━━━━━━━━━━━━━━━━━━━━━━━━━━━━━━━━━━\u001b[0m \u001b[32m16.4/16.4 MB\u001b[0m \u001b[31m57.2 MB/s\u001b[0m eta \u001b[36m0:00:00\u001b[0m\n",
            "\u001b[?25hRequirement already satisfied: typing-extensions>=4.1.1 in /usr/local/lib/python3.9/dist-packages (from flax>=0.6.2->tensorflowjs) (4.5.0)\n",
            "Requirement already satisfied: orbax in /usr/local/lib/python3.9/dist-packages (from flax>=0.6.2->tensorflowjs) (0.1.7)\n",
            "Requirement already satisfied: optax in /usr/local/lib/python3.9/dist-packages (from flax>=0.6.2->tensorflowjs) (0.1.4)\n",
            "Requirement already satisfied: rich>=11.1 in /usr/local/lib/python3.9/dist-packages (from flax>=0.6.2->tensorflowjs) (13.3.4)\n",
            "Requirement already satisfied: tensorstore in /usr/local/lib/python3.9/dist-packages (from flax>=0.6.2->tensorflowjs) (0.1.35)\n",
            "Requirement already satisfied: numpy>=1.12 in /usr/local/lib/python3.9/dist-packages (from flax>=0.6.2->tensorflowjs) (1.22.4)\n",
            "Requirement already satisfied: msgpack in /usr/local/lib/python3.9/dist-packages (from flax>=0.6.2->tensorflowjs) (1.0.5)\n",
            "Requirement already satisfied: PyYAML>=5.4.1 in /usr/local/lib/python3.9/dist-packages (from flax>=0.6.2->tensorflowjs) (6.0)\n",
            "Requirement already satisfied: zipp>=3.1.0 in /usr/local/lib/python3.9/dist-packages (from importlib_resources>=5.9.0->tensorflowjs) (3.15.0)\n",
            "Requirement already satisfied: scipy>=1.7 in /usr/local/lib/python3.9/dist-packages (from jax>=0.3.16->tensorflowjs) (1.10.1)\n",
            "Requirement already satisfied: opt-einsum in /usr/local/lib/python3.9/dist-packages (from jax>=0.3.16->tensorflowjs) (3.3.0)\n",
            "Requirement already satisfied: ml-dtypes>=0.0.3 in /usr/local/lib/python3.9/dist-packages (from jax>=0.3.16->tensorflowjs) (0.1.0)\n",
            "Requirement already satisfied: pyparsing>=2.0.2 in /usr/local/lib/python3.9/dist-packages (from packaging~=20.9->tensorflowjs) (3.0.9)\n",
            "Requirement already satisfied: grpcio<2.0,>=1.24.3 in /usr/local/lib/python3.9/dist-packages (from tensorflow<3,>=2.10.0->tensorflowjs) (1.53.0)\n",
            "Requirement already satisfied: tensorflow-estimator<2.13,>=2.12.0 in /usr/local/lib/python3.9/dist-packages (from tensorflow<3,>=2.10.0->tensorflowjs) (2.12.0)\n",
            "Requirement already satisfied: setuptools in /usr/local/lib/python3.9/dist-packages (from tensorflow<3,>=2.10.0->tensorflowjs) (67.7.2)\n",
            "Requirement already satisfied: h5py>=2.9.0 in /usr/local/lib/python3.9/dist-packages (from tensorflow<3,>=2.10.0->tensorflowjs) (3.8.0)\n",
            "Requirement already satisfied: tensorflow-io-gcs-filesystem>=0.23.1 in /usr/local/lib/python3.9/dist-packages (from tensorflow<3,>=2.10.0->tensorflowjs) (0.32.0)\n",
            "Requirement already satisfied: libclang>=13.0.0 in /usr/local/lib/python3.9/dist-packages (from tensorflow<3,>=2.10.0->tensorflowjs) (16.0.0)\n",
            "Requirement already satisfied: astunparse>=1.6.0 in /usr/local/lib/python3.9/dist-packages (from tensorflow<3,>=2.10.0->tensorflowjs) (1.6.3)\n",
            "Collecting tensorflow<3,>=2.10.0\n",
            "  Downloading tensorflow-2.11.1-cp39-cp39-manylinux_2_17_x86_64.manylinux2014_x86_64.whl (588.3 MB)\n",
            "\u001b[2K     \u001b[90m━━━━━━━━━━━━━━━━━━━━━━━━━━━━━━━━━━━━━━━\u001b[0m \u001b[32m588.3/588.3 MB\u001b[0m \u001b[31m3.0 MB/s\u001b[0m eta \u001b[36m0:00:00\u001b[0m\n",
            "\u001b[?25hCollecting tensorboard<2.12,>=2.11\n",
            "  Downloading tensorboard-2.11.2-py3-none-any.whl (6.0 MB)\n",
            "\u001b[2K     \u001b[90m━━━━━━━━━━━━━━━━━━━━━━━━━━━━━━━━━━━━━━━━\u001b[0m \u001b[32m6.0/6.0 MB\u001b[0m \u001b[31m117.3 MB/s\u001b[0m eta \u001b[36m0:00:00\u001b[0m\n",
            "\u001b[?25hCollecting keras<2.12,>=2.11.0\n",
            "  Downloading keras-2.11.0-py2.py3-none-any.whl (1.7 MB)\n",
            "\u001b[2K     \u001b[90m━━━━━━━━━━━━━━━━━━━━━━━━━━━━━━━━━━━━━━━━\u001b[0m \u001b[32m1.7/1.7 MB\u001b[0m \u001b[31m86.6 MB/s\u001b[0m eta \u001b[36m0:00:00\u001b[0m\n",
            "\u001b[?25hRequirement already satisfied: absl-py>=1.0.0 in /usr/local/lib/python3.9/dist-packages (from tensorflow<3,>=2.10.0->tensorflowjs) (1.4.0)\n",
            "Requirement already satisfied: termcolor>=1.1.0 in /usr/local/lib/python3.9/dist-packages (from tensorflow<3,>=2.10.0->tensorflowjs) (2.2.0)\n",
            "Requirement already satisfied: flatbuffers>=2.0 in /usr/local/lib/python3.9/dist-packages (from tensorflow<3,>=2.10.0->tensorflowjs) (23.3.3)\n",
            "Collecting tensorflow-estimator<2.12,>=2.11.0\n",
            "  Downloading tensorflow_estimator-2.11.0-py2.py3-none-any.whl (439 kB)\n",
            "\u001b[2K     \u001b[90m━━━━━━━━━━━━━━━━━━━━━━━━━━━━━━━━━━━━━━\u001b[0m \u001b[32m439.2/439.2 kB\u001b[0m \u001b[31m44.2 MB/s\u001b[0m eta \u001b[36m0:00:00\u001b[0m\n",
            "\u001b[?25hRequirement already satisfied: google-pasta>=0.1.1 in /usr/local/lib/python3.9/dist-packages (from tensorflow<3,>=2.10.0->tensorflowjs) (0.2.0)\n",
            "Requirement already satisfied: gast<=0.4.0,>=0.2.1 in /usr/local/lib/python3.9/dist-packages (from tensorflow<3,>=2.10.0->tensorflowjs) (0.4.0)\n",
            "Requirement already satisfied: wrapt>=1.11.0 in /usr/local/lib/python3.9/dist-packages (from tensorflow<3,>=2.10.0->tensorflowjs) (1.14.1)\n",
            "Collecting wurlitzer\n",
            "  Downloading wurlitzer-3.0.3-py3-none-any.whl (7.3 kB)\n",
            "Requirement already satisfied: wheel in /usr/local/lib/python3.9/dist-packages (from tensorflow-decision-forests>=1.0.1->tensorflowjs) (0.40.0)\n",
            "Requirement already satisfied: pandas in /usr/local/lib/python3.9/dist-packages (from tensorflow-decision-forests>=1.0.1->tensorflowjs) (1.5.3)\n",
            "INFO: pip is looking at multiple versions of tensorflow-decision-forests to determine which version is compatible with other requirements. This could take a while.\n",
            "Collecting tensorflow-decision-forests>=1.0.1\n",
            "  Downloading tensorflow_decision_forests-1.2.0-cp39-cp39-manylinux_2_17_x86_64.manylinux2014_x86_64.whl (16.5 MB)\n",
            "\u001b[2K     \u001b[90m━━━━━━━━━━━━━━━━━━━━━━━━━━━━━━━━━━━━━━━━\u001b[0m \u001b[32m16.5/16.5 MB\u001b[0m \u001b[31m90.2 MB/s\u001b[0m eta \u001b[36m0:00:00\u001b[0m\n",
            "\u001b[?25hRequirement already satisfied: markdown-it-py<3.0.0,>=2.2.0 in /usr/local/lib/python3.9/dist-packages (from rich>=11.1->flax>=0.6.2->tensorflowjs) (2.2.0)\n",
            "Requirement already satisfied: pygments<3.0.0,>=2.13.0 in /usr/local/lib/python3.9/dist-packages (from rich>=11.1->flax>=0.6.2->tensorflowjs) (2.14.0)\n",
            "Requirement already satisfied: werkzeug>=1.0.1 in /usr/local/lib/python3.9/dist-packages (from tensorboard<2.12,>=2.11->tensorflow<3,>=2.10.0->tensorflowjs) (2.2.3)\n",
            "Requirement already satisfied: markdown>=2.6.8 in /usr/local/lib/python3.9/dist-packages (from tensorboard<2.12,>=2.11->tensorflow<3,>=2.10.0->tensorflowjs) (3.4.3)\n",
            "Requirement already satisfied: google-auth<3,>=1.6.3 in /usr/local/lib/python3.9/dist-packages (from tensorboard<2.12,>=2.11->tensorflow<3,>=2.10.0->tensorflowjs) (2.17.3)\n",
            "Collecting tensorboard-data-server<0.7.0,>=0.6.0\n",
            "  Downloading tensorboard_data_server-0.6.1-py3-none-manylinux2010_x86_64.whl (4.9 MB)\n",
            "\u001b[2K     \u001b[90m━━━━━━━━━━━━━━━━━━━━━━━━━━━━━━━━━━━━━━━━\u001b[0m \u001b[32m4.9/4.9 MB\u001b[0m \u001b[31m118.9 MB/s\u001b[0m eta \u001b[36m0:00:00\u001b[0m\n",
            "\u001b[?25hRequirement already satisfied: tensorboard-plugin-wit>=1.6.0 in /usr/local/lib/python3.9/dist-packages (from tensorboard<2.12,>=2.11->tensorflow<3,>=2.10.0->tensorflowjs) (1.8.1)\n",
            "Requirement already satisfied: requests<3,>=2.21.0 in /usr/local/lib/python3.9/dist-packages (from tensorboard<2.12,>=2.11->tensorflow<3,>=2.10.0->tensorflowjs) (2.27.1)\n",
            "Collecting google-auth-oauthlib<0.5,>=0.4.1\n",
            "  Downloading google_auth_oauthlib-0.4.6-py2.py3-none-any.whl (18 kB)\n",
            "Requirement already satisfied: chex>=0.1.5 in /usr/local/lib/python3.9/dist-packages (from optax->flax>=0.6.2->tensorflowjs) (0.1.7)\n",
            "Requirement already satisfied: jaxlib>=0.1.37 in /usr/local/lib/python3.9/dist-packages (from optax->flax>=0.6.2->tensorflowjs) (0.4.7+cuda11.cudnn86)\n",
            "Requirement already satisfied: etils in /usr/local/lib/python3.9/dist-packages (from orbax->flax>=0.6.2->tensorflowjs) (1.2.0)\n",
            "Requirement already satisfied: nest_asyncio in /usr/local/lib/python3.9/dist-packages (from orbax->flax>=0.6.2->tensorflowjs) (1.5.6)\n",
            "Requirement already satisfied: cached_property in /usr/local/lib/python3.9/dist-packages (from orbax->flax>=0.6.2->tensorflowjs) (1.5.2)\n",
            "Requirement already satisfied: pytz>=2020.1 in /usr/local/lib/python3.9/dist-packages (from pandas->tensorflow-decision-forests>=1.0.1->tensorflowjs) (2022.7.1)\n",
            "Requirement already satisfied: python-dateutil>=2.8.1 in /usr/local/lib/python3.9/dist-packages (from pandas->tensorflow-decision-forests>=1.0.1->tensorflowjs) (2.8.2)\n",
            "Requirement already satisfied: toolz>=0.9.0 in /usr/local/lib/python3.9/dist-packages (from chex>=0.1.5->optax->flax>=0.6.2->tensorflowjs) (0.12.0)\n",
            "Requirement already satisfied: dm-tree>=0.1.5 in /usr/local/lib/python3.9/dist-packages (from chex>=0.1.5->optax->flax>=0.6.2->tensorflowjs) (0.1.8)\n",
            "Requirement already satisfied: cachetools<6.0,>=2.0.0 in /usr/local/lib/python3.9/dist-packages (from google-auth<3,>=1.6.3->tensorboard<2.12,>=2.11->tensorflow<3,>=2.10.0->tensorflowjs) (5.3.0)\n",
            "Requirement already satisfied: rsa<5,>=3.1.4 in /usr/local/lib/python3.9/dist-packages (from google-auth<3,>=1.6.3->tensorboard<2.12,>=2.11->tensorflow<3,>=2.10.0->tensorflowjs) (4.9)\n",
            "Requirement already satisfied: pyasn1-modules>=0.2.1 in /usr/local/lib/python3.9/dist-packages (from google-auth<3,>=1.6.3->tensorboard<2.12,>=2.11->tensorflow<3,>=2.10.0->tensorflowjs) (0.2.8)\n",
            "Requirement already satisfied: requests-oauthlib>=0.7.0 in /usr/local/lib/python3.9/dist-packages (from google-auth-oauthlib<0.5,>=0.4.1->tensorboard<2.12,>=2.11->tensorflow<3,>=2.10.0->tensorflowjs) (1.3.1)\n",
            "Requirement already satisfied: importlib-metadata>=4.4 in /usr/local/lib/python3.9/dist-packages (from markdown>=2.6.8->tensorboard<2.12,>=2.11->tensorflow<3,>=2.10.0->tensorflowjs) (6.4.1)\n",
            "Requirement already satisfied: mdurl~=0.1 in /usr/local/lib/python3.9/dist-packages (from markdown-it-py<3.0.0,>=2.2.0->rich>=11.1->flax>=0.6.2->tensorflowjs) (0.1.2)\n",
            "Requirement already satisfied: certifi>=2017.4.17 in /usr/local/lib/python3.9/dist-packages (from requests<3,>=2.21.0->tensorboard<2.12,>=2.11->tensorflow<3,>=2.10.0->tensorflowjs) (2022.12.7)\n",
            "Requirement already satisfied: charset-normalizer~=2.0.0 in /usr/local/lib/python3.9/dist-packages (from requests<3,>=2.21.0->tensorboard<2.12,>=2.11->tensorflow<3,>=2.10.0->tensorflowjs) (2.0.12)\n",
            "Requirement already satisfied: idna<4,>=2.5 in /usr/local/lib/python3.9/dist-packages (from requests<3,>=2.21.0->tensorboard<2.12,>=2.11->tensorflow<3,>=2.10.0->tensorflowjs) (3.4)\n",
            "Requirement already satisfied: urllib3<1.27,>=1.21.1 in /usr/local/lib/python3.9/dist-packages (from requests<3,>=2.21.0->tensorboard<2.12,>=2.11->tensorflow<3,>=2.10.0->tensorflowjs) (1.26.15)\n",
            "Requirement already satisfied: MarkupSafe>=2.1.1 in /usr/local/lib/python3.9/dist-packages (from werkzeug>=1.0.1->tensorboard<2.12,>=2.11->tensorflow<3,>=2.10.0->tensorflowjs) (2.1.2)\n",
            "Requirement already satisfied: pyasn1<0.5.0,>=0.4.6 in /usr/local/lib/python3.9/dist-packages (from pyasn1-modules>=0.2.1->google-auth<3,>=1.6.3->tensorboard<2.12,>=2.11->tensorflow<3,>=2.10.0->tensorflowjs) (0.4.8)\n",
            "Requirement already satisfied: oauthlib>=3.0.0 in /usr/local/lib/python3.9/dist-packages (from requests-oauthlib>=0.7.0->google-auth-oauthlib<0.5,>=0.4.1->tensorboard<2.12,>=2.11->tensorflow<3,>=2.10.0->tensorflowjs) (3.2.2)\n",
            "Installing collected packages: wurlitzer, tensorflow-estimator, tensorboard-data-server, protobuf, packaging, keras, tensorflow-hub, google-auth-oauthlib, tensorboard, tensorflow, tensorflow-decision-forests, tensorflowjs\n",
            "  Attempting uninstall: tensorflow-estimator\n",
            "    Found existing installation: tensorflow-estimator 2.12.0\n",
            "    Uninstalling tensorflow-estimator-2.12.0:\n",
            "      Successfully uninstalled tensorflow-estimator-2.12.0\n",
            "  Attempting uninstall: tensorboard-data-server\n",
            "    Found existing installation: tensorboard-data-server 0.7.0\n",
            "    Uninstalling tensorboard-data-server-0.7.0:\n",
            "      Successfully uninstalled tensorboard-data-server-0.7.0\n",
            "  Attempting uninstall: protobuf\n",
            "    Found existing installation: protobuf 3.20.3\n",
            "    Uninstalling protobuf-3.20.3:\n",
            "      Successfully uninstalled protobuf-3.20.3\n",
            "  Attempting uninstall: packaging\n",
            "    Found existing installation: packaging 23.1\n",
            "    Uninstalling packaging-23.1:\n",
            "      Successfully uninstalled packaging-23.1\n",
            "  Attempting uninstall: keras\n",
            "    Found existing installation: keras 2.12.0\n",
            "    Uninstalling keras-2.12.0:\n",
            "      Successfully uninstalled keras-2.12.0\n",
            "  Attempting uninstall: tensorflow-hub\n",
            "    Found existing installation: tensorflow-hub 0.13.0\n",
            "    Uninstalling tensorflow-hub-0.13.0:\n",
            "      Successfully uninstalled tensorflow-hub-0.13.0\n",
            "  Attempting uninstall: google-auth-oauthlib\n",
            "    Found existing installation: google-auth-oauthlib 1.0.0\n",
            "    Uninstalling google-auth-oauthlib-1.0.0:\n",
            "      Successfully uninstalled google-auth-oauthlib-1.0.0\n",
            "  Attempting uninstall: tensorboard\n",
            "    Found existing installation: tensorboard 2.12.2\n",
            "    Uninstalling tensorboard-2.12.2:\n",
            "      Successfully uninstalled tensorboard-2.12.2\n",
            "  Attempting uninstall: tensorflow\n",
            "    Found existing installation: tensorflow 2.12.0\n",
            "    Uninstalling tensorflow-2.12.0:\n",
            "      Successfully uninstalled tensorflow-2.12.0\n",
            "\u001b[31mERROR: pip's dependency resolver does not currently take into account all the packages that are installed. This behaviour is the source of the following dependency conflicts.\n",
            "xarray 2022.12.0 requires packaging>=21.3, but you have packaging 20.9 which is incompatible.\n",
            "tensorflow-metadata 1.13.1 requires protobuf<5,>=3.20.3, but you have protobuf 3.19.6 which is incompatible.\n",
            "statsmodels 0.13.5 requires packaging>=21.3, but you have packaging 20.9 which is incompatible.\u001b[0m\u001b[31m\n",
            "\u001b[0mSuccessfully installed google-auth-oauthlib-0.4.6 keras-2.11.0 packaging-20.9 protobuf-3.19.6 tensorboard-2.11.2 tensorboard-data-server-0.6.1 tensorflow-2.11.1 tensorflow-decision-forests-1.2.0 tensorflow-estimator-2.11.0 tensorflow-hub-0.12.0 tensorflowjs-4.4.0 wurlitzer-3.0.3\n"
          ]
        }
      ]
    },
    {
      "cell_type": "markdown",
      "source": [
        "Guarda y descargar el modelo secuencial en formato .h5:"
      ],
      "metadata": {
        "id": "eHsi39jhgT3p"
      }
    },
    {
      "cell_type": "code",
      "source": [
        "model_seq.save('model_sequencial.h5')\n",
        "#files.download('model_sequencial')\n",
        "#files.download('model_sequencial.h5')\n",
        "#!tensorflowjs_converter --input_format keras '/content/model_sequencial.h5' '/content/model_sequencial'"
      ],
      "metadata": {
        "id": "4Woyq3KDgYT9"
      },
      "execution_count": 14,
      "outputs": []
    },
    {
      "cell_type": "markdown",
      "source": [
        "Crea el modelo convolucional pra enyrenarlo a 60 epochs:"
      ],
      "metadata": {
        "id": "J7_9kqNZgZwv"
      }
    },
    {
      "cell_type": "code",
      "source": [
        "model_conv = Sequential([\n",
        "    Conv2D(32, kernel_size=(3, 3), activation='relu', input_shape=(28, 28, 1)),\n",
        "    MaxPooling2D(pool_size=(2, 2)),\n",
        "    Conv2D(64, kernel_size=(3, 3), activation='relu'),\n",
        "    MaxPooling2D(pool_size=(2, 2)),\n",
        "    Flatten(),\n",
        "    Dense(128, activation='relu'),\n",
        "    Dense(10, activation='softmax')\n",
        "])\n"
      ],
      "metadata": {
        "id": "YE22gDKcgbZY"
      },
      "execution_count": 31,
      "outputs": []
    },
    {
      "cell_type": "markdown",
      "source": [
        "Prepara los datos para el modelo convolucional:"
      ],
      "metadata": {
        "id": "sIh1CXnhgdB-"
      }
    },
    {
      "cell_type": "code",
      "source": [
        "x_train = X_train.reshape(X_train.shape[0], 28, 28, 1)\n",
        "x_test = X_test.reshape(X_test.shape[0], 28, 28, 1)"
      ],
      "metadata": {
        "id": "pcfonGAcgesa"
      },
      "execution_count": 32,
      "outputs": []
    },
    {
      "cell_type": "markdown",
      "source": [
        "Compila y entrena el modelo convolucional a 60 epochs:"
      ],
      "metadata": {
        "id": "lxcapASiggil"
      }
    },
    {
      "cell_type": "code",
      "source": [
        "model_conv.compile(optimizer='adam', loss='sparse_categorical_crossentropy', metrics=['accuracy'])\n",
        "model_conv.fit(x_train, y_train, epochs=60, validation_data=(x_test, y_test))\n"
      ],
      "metadata": {
        "colab": {
          "base_uri": "https://localhost:8080/"
        },
        "id": "Dw3jVSKigjE9",
        "outputId": "47714555-629d-4b6a-d235-c7e038554b85"
      },
      "execution_count": 33,
      "outputs": [
        {
          "output_type": "stream",
          "name": "stdout",
          "text": [
            "Epoch 1/60\n",
            "1875/1875 [==============================] - 44s 23ms/step - loss: 0.1295 - accuracy: 0.9607 - val_loss: 0.0504 - val_accuracy: 0.9832\n",
            "Epoch 2/60\n",
            "1875/1875 [==============================] - 43s 23ms/step - loss: 0.0456 - accuracy: 0.9856 - val_loss: 0.0356 - val_accuracy: 0.9891\n",
            "Epoch 3/60\n",
            "1875/1875 [==============================] - 43s 23ms/step - loss: 0.0309 - accuracy: 0.9901 - val_loss: 0.0290 - val_accuracy: 0.9909\n",
            "Epoch 4/60\n",
            "1875/1875 [==============================] - 45s 24ms/step - loss: 0.0215 - accuracy: 0.9933 - val_loss: 0.0267 - val_accuracy: 0.9910\n",
            "Epoch 5/60\n",
            "1875/1875 [==============================] - 43s 23ms/step - loss: 0.0163 - accuracy: 0.9949 - val_loss: 0.0256 - val_accuracy: 0.9922\n",
            "Epoch 6/60\n",
            "1875/1875 [==============================] - 45s 24ms/step - loss: 0.0114 - accuracy: 0.9963 - val_loss: 0.0325 - val_accuracy: 0.9907\n",
            "Epoch 7/60\n",
            "1875/1875 [==============================] - 43s 23ms/step - loss: 0.0110 - accuracy: 0.9965 - val_loss: 0.0415 - val_accuracy: 0.9891\n",
            "Epoch 8/60\n",
            "1875/1875 [==============================] - 43s 23ms/step - loss: 0.0087 - accuracy: 0.9970 - val_loss: 0.0298 - val_accuracy: 0.9914\n",
            "Epoch 9/60\n",
            "1875/1875 [==============================] - 43s 23ms/step - loss: 0.0067 - accuracy: 0.9976 - val_loss: 0.0332 - val_accuracy: 0.9919\n",
            "Epoch 10/60\n",
            "1875/1875 [==============================] - 44s 23ms/step - loss: 0.0057 - accuracy: 0.9981 - val_loss: 0.0350 - val_accuracy: 0.9926\n",
            "Epoch 11/60\n",
            "1875/1875 [==============================] - 48s 26ms/step - loss: 0.0048 - accuracy: 0.9983 - val_loss: 0.0452 - val_accuracy: 0.9900\n",
            "Epoch 12/60\n",
            "1875/1875 [==============================] - 43s 23ms/step - loss: 0.0050 - accuracy: 0.9984 - val_loss: 0.0368 - val_accuracy: 0.9914\n",
            "Epoch 13/60\n",
            "1875/1875 [==============================] - 43s 23ms/step - loss: 0.0044 - accuracy: 0.9987 - val_loss: 0.0405 - val_accuracy: 0.9923\n",
            "Epoch 14/60\n",
            "1875/1875 [==============================] - 43s 23ms/step - loss: 0.0040 - accuracy: 0.9987 - val_loss: 0.0450 - val_accuracy: 0.9892\n",
            "Epoch 15/60\n",
            "1875/1875 [==============================] - 43s 23ms/step - loss: 0.0041 - accuracy: 0.9987 - val_loss: 0.0653 - val_accuracy: 0.9901\n",
            "Epoch 16/60\n",
            "1875/1875 [==============================] - 43s 23ms/step - loss: 0.0047 - accuracy: 0.9986 - val_loss: 0.0424 - val_accuracy: 0.9912\n",
            "Epoch 17/60\n",
            "1875/1875 [==============================] - 45s 24ms/step - loss: 0.0024 - accuracy: 0.9992 - val_loss: 0.0476 - val_accuracy: 0.9907\n",
            "Epoch 18/60\n",
            "1875/1875 [==============================] - 44s 23ms/step - loss: 0.0032 - accuracy: 0.9991 - val_loss: 0.0441 - val_accuracy: 0.9921\n",
            "Epoch 19/60\n",
            "1875/1875 [==============================] - 44s 24ms/step - loss: 0.0031 - accuracy: 0.9990 - val_loss: 0.0387 - val_accuracy: 0.9926\n",
            "Epoch 20/60\n",
            "1875/1875 [==============================] - 43s 23ms/step - loss: 0.0036 - accuracy: 0.9990 - val_loss: 0.0424 - val_accuracy: 0.9935\n",
            "Epoch 21/60\n",
            "1875/1875 [==============================] - 45s 24ms/step - loss: 0.0026 - accuracy: 0.9993 - val_loss: 0.0480 - val_accuracy: 0.9923\n",
            "Epoch 22/60\n",
            "1875/1875 [==============================] - 46s 25ms/step - loss: 0.0035 - accuracy: 0.9991 - val_loss: 0.0700 - val_accuracy: 0.9900\n",
            "Epoch 23/60\n",
            "1875/1875 [==============================] - 43s 23ms/step - loss: 0.0033 - accuracy: 0.9990 - val_loss: 0.0493 - val_accuracy: 0.9920\n",
            "Epoch 24/60\n",
            "1875/1875 [==============================] - 43s 23ms/step - loss: 0.0024 - accuracy: 0.9993 - val_loss: 0.0562 - val_accuracy: 0.9911\n",
            "Epoch 25/60\n",
            "1875/1875 [==============================] - 44s 23ms/step - loss: 0.0028 - accuracy: 0.9991 - val_loss: 0.0556 - val_accuracy: 0.9920\n",
            "Epoch 26/60\n",
            "1875/1875 [==============================] - 44s 23ms/step - loss: 0.0019 - accuracy: 0.9994 - val_loss: 0.0661 - val_accuracy: 0.9913\n",
            "Epoch 27/60\n",
            "1875/1875 [==============================] - 44s 23ms/step - loss: 0.0036 - accuracy: 0.9989 - val_loss: 0.0547 - val_accuracy: 0.9918\n",
            "Epoch 28/60\n",
            "1875/1875 [==============================] - 45s 24ms/step - loss: 0.0028 - accuracy: 0.9991 - val_loss: 0.0515 - val_accuracy: 0.9921\n",
            "Epoch 29/60\n",
            "1875/1875 [==============================] - 43s 23ms/step - loss: 0.0015 - accuracy: 0.9995 - val_loss: 0.0564 - val_accuracy: 0.9919\n",
            "Epoch 30/60\n",
            "1875/1875 [==============================] - 44s 24ms/step - loss: 0.0018 - accuracy: 0.9995 - val_loss: 0.0840 - val_accuracy: 0.9902\n",
            "Epoch 31/60\n",
            "1875/1875 [==============================] - 44s 23ms/step - loss: 0.0041 - accuracy: 0.9989 - val_loss: 0.0640 - val_accuracy: 0.9912\n",
            "Epoch 32/60\n",
            "1875/1875 [==============================] - 46s 25ms/step - loss: 0.0023 - accuracy: 0.9994 - val_loss: 0.0555 - val_accuracy: 0.9931\n",
            "Epoch 33/60\n",
            "1875/1875 [==============================] - 45s 24ms/step - loss: 0.0027 - accuracy: 0.9993 - val_loss: 0.0626 - val_accuracy: 0.9930\n",
            "Epoch 34/60\n",
            "1875/1875 [==============================] - 44s 23ms/step - loss: 0.0025 - accuracy: 0.9994 - val_loss: 0.0651 - val_accuracy: 0.9903\n",
            "Epoch 35/60\n",
            "1875/1875 [==============================] - 43s 23ms/step - loss: 0.0036 - accuracy: 0.9991 - val_loss: 0.0632 - val_accuracy: 0.9907\n",
            "Epoch 36/60\n",
            "1875/1875 [==============================] - 43s 23ms/step - loss: 0.0027 - accuracy: 0.9993 - val_loss: 0.0610 - val_accuracy: 0.9924\n",
            "Epoch 37/60\n",
            "1875/1875 [==============================] - 43s 23ms/step - loss: 0.0022 - accuracy: 0.9994 - val_loss: 0.0696 - val_accuracy: 0.9908\n",
            "Epoch 38/60\n",
            "1875/1875 [==============================] - 44s 24ms/step - loss: 0.0015 - accuracy: 0.9996 - val_loss: 0.0773 - val_accuracy: 0.9901\n",
            "Epoch 39/60\n",
            "1875/1875 [==============================] - 46s 24ms/step - loss: 0.0021 - accuracy: 0.9995 - val_loss: 0.0672 - val_accuracy: 0.9904\n",
            "Epoch 40/60\n",
            "1875/1875 [==============================] - 43s 23ms/step - loss: 0.0023 - accuracy: 0.9993 - val_loss: 0.0712 - val_accuracy: 0.9915\n",
            "Epoch 41/60\n",
            "1875/1875 [==============================] - 43s 23ms/step - loss: 0.0012 - accuracy: 0.9997 - val_loss: 0.1156 - val_accuracy: 0.9868\n",
            "Epoch 42/60\n",
            "1875/1875 [==============================] - 44s 23ms/step - loss: 0.0026 - accuracy: 0.9995 - val_loss: 0.0845 - val_accuracy: 0.9913\n",
            "Epoch 43/60\n",
            "1875/1875 [==============================] - 43s 23ms/step - loss: 0.0025 - accuracy: 0.9994 - val_loss: 0.0795 - val_accuracy: 0.9924\n",
            "Epoch 44/60\n",
            "1875/1875 [==============================] - 46s 24ms/step - loss: 0.0023 - accuracy: 0.9995 - val_loss: 0.0854 - val_accuracy: 0.9909\n",
            "Epoch 45/60\n",
            "1875/1875 [==============================] - 43s 23ms/step - loss: 0.0022 - accuracy: 0.9995 - val_loss: 0.0958 - val_accuracy: 0.9902\n",
            "Epoch 46/60\n",
            "1875/1875 [==============================] - 43s 23ms/step - loss: 0.0028 - accuracy: 0.9993 - val_loss: 0.0744 - val_accuracy: 0.9912\n",
            "Epoch 47/60\n",
            "1875/1875 [==============================] - 44s 23ms/step - loss: 2.6613e-04 - accuracy: 0.9999 - val_loss: 0.0823 - val_accuracy: 0.9922\n",
            "Epoch 48/60\n",
            "1875/1875 [==============================] - 43s 23ms/step - loss: 0.0024 - accuracy: 0.9995 - val_loss: 0.0756 - val_accuracy: 0.9925\n",
            "Epoch 49/60\n",
            "1875/1875 [==============================] - 47s 25ms/step - loss: 0.0023 - accuracy: 0.9994 - val_loss: 0.0955 - val_accuracy: 0.9910\n",
            "Epoch 50/60\n",
            "1875/1875 [==============================] - 46s 25ms/step - loss: 0.0020 - accuracy: 0.9995 - val_loss: 0.0818 - val_accuracy: 0.9917\n",
            "Epoch 51/60\n",
            "1875/1875 [==============================] - 44s 23ms/step - loss: 2.2449e-04 - accuracy: 0.9999 - val_loss: 0.0809 - val_accuracy: 0.9919\n",
            "Epoch 52/60\n",
            "1875/1875 [==============================] - 44s 23ms/step - loss: 0.0035 - accuracy: 0.9993 - val_loss: 0.0980 - val_accuracy: 0.9915\n",
            "Epoch 53/60\n",
            "1875/1875 [==============================] - 43s 23ms/step - loss: 0.0012 - accuracy: 0.9998 - val_loss: 0.1128 - val_accuracy: 0.9909\n",
            "Epoch 54/60\n",
            "1875/1875 [==============================] - 44s 23ms/step - loss: 0.0025 - accuracy: 0.9995 - val_loss: 0.0996 - val_accuracy: 0.9916\n",
            "Epoch 55/60\n",
            "1875/1875 [==============================] - 45s 24ms/step - loss: 0.0027 - accuracy: 0.9995 - val_loss: 0.0865 - val_accuracy: 0.9927\n",
            "Epoch 56/60\n",
            "1875/1875 [==============================] - 43s 23ms/step - loss: 0.0022 - accuracy: 0.9995 - val_loss: 0.0919 - val_accuracy: 0.9913\n",
            "Epoch 57/60\n",
            "1875/1875 [==============================] - 44s 23ms/step - loss: 0.0027 - accuracy: 0.9994 - val_loss: 0.1061 - val_accuracy: 0.9909\n",
            "Epoch 58/60\n",
            "1875/1875 [==============================] - 44s 23ms/step - loss: 0.0018 - accuracy: 0.9997 - val_loss: 0.1073 - val_accuracy: 0.9917\n",
            "Epoch 59/60\n",
            "1875/1875 [==============================] - 44s 23ms/step - loss: 0.0014 - accuracy: 0.9997 - val_loss: 0.1094 - val_accuracy: 0.9913\n",
            "Epoch 60/60\n",
            "1875/1875 [==============================] - 45s 24ms/step - loss: 0.0018 - accuracy: 0.9997 - val_loss: 0.1155 - val_accuracy: 0.9898\n"
          ]
        },
        {
          "output_type": "execute_result",
          "data": {
            "text/plain": [
              "<keras.callbacks.History at 0x7f1fb0c32670>"
            ]
          },
          "metadata": {},
          "execution_count": 33
        }
      ]
    },
    {
      "cell_type": "markdown",
      "source": [
        "Guarda y descargar el modelo convolucional entrenado a 60 epochs en formato .h5:"
      ],
      "metadata": {
        "id": "i6XyM3GuglDL"
      }
    },
    {
      "cell_type": "code",
      "source": [
        "model_conv.save('model_convolucional.h5')\n",
        "#files.download('model_conv.h5')"
      ],
      "metadata": {
        "id": "y8zIRxZ2gmxv"
      },
      "execution_count": 34,
      "outputs": []
    },
    {
      "cell_type": "markdown",
      "source": [
        "Crea el modelo convolucional para entrenarlo a 200 epochs"
      ],
      "metadata": {
        "id": "cQ-_mH_xo6Xx"
      }
    },
    {
      "cell_type": "code",
      "source": [
        "model_conv200 = Sequential([\n",
        "    Conv2D(32, kernel_size=(3, 3), activation='relu', input_shape=(28, 28, 1)),\n",
        "    MaxPooling2D(pool_size=(2, 2)),\n",
        "    Conv2D(64, kernel_size=(3, 3), activation='relu'),\n",
        "    MaxPooling2D(pool_size=(2, 2)),\n",
        "    Flatten(),\n",
        "    Dense(128, activation='relu'),\n",
        "    Dense(10, activation='softmax')\n",
        "])"
      ],
      "metadata": {
        "id": "zg1pTHXMowfL"
      },
      "execution_count": 22,
      "outputs": []
    },
    {
      "cell_type": "markdown",
      "source": [
        "Prepara los datos para el modelo convolucional:"
      ],
      "metadata": {
        "id": "SkgCaAzzpI8H"
      }
    },
    {
      "cell_type": "code",
      "source": [
        "x_train = X_train.reshape(X_train.shape[0], 28, 28, 1)\n",
        "x_test = X_test.reshape(X_test.shape[0], 28, 28, 1)"
      ],
      "metadata": {
        "id": "LJ1Lox60pPbQ"
      },
      "execution_count": 23,
      "outputs": []
    },
    {
      "cell_type": "markdown",
      "source": [
        "Compila y entrena el modelo convolucional a 200 epochs:"
      ],
      "metadata": {
        "id": "hAscVGsnpSaR"
      }
    },
    {
      "cell_type": "code",
      "source": [
        "model_conv200.compile(optimizer='adam', loss='sparse_categorical_crossentropy', metrics=['accuracy'])\n",
        "model_conv200.fit(x_train, y_train, epochs=200, validation_data=(x_test, y_test))"
      ],
      "metadata": {
        "colab": {
          "base_uri": "https://localhost:8080/"
        },
        "id": "qZq-f5Izpah6",
        "outputId": "8fd36f63-275b-4a73-8f77-c489c361ad14"
      },
      "execution_count": 24,
      "outputs": [
        {
          "output_type": "stream",
          "name": "stdout",
          "text": [
            "Epoch 1/200\n",
            "1875/1875 [==============================] - 44s 23ms/step - loss: 0.1345 - accuracy: 0.9581 - val_loss: 0.0429 - val_accuracy: 0.9869\n",
            "Epoch 2/200\n",
            "1875/1875 [==============================] - 44s 23ms/step - loss: 0.0415 - accuracy: 0.9871 - val_loss: 0.0446 - val_accuracy: 0.9855\n",
            "Epoch 3/200\n",
            "1875/1875 [==============================] - 48s 26ms/step - loss: 0.0284 - accuracy: 0.9912 - val_loss: 0.0249 - val_accuracy: 0.9926\n",
            "Epoch 4/200\n",
            "1875/1875 [==============================] - 43s 23ms/step - loss: 0.0205 - accuracy: 0.9933 - val_loss: 0.0354 - val_accuracy: 0.9880\n",
            "Epoch 5/200\n",
            "1875/1875 [==============================] - 44s 23ms/step - loss: 0.0155 - accuracy: 0.9952 - val_loss: 0.0259 - val_accuracy: 0.9920\n",
            "Epoch 6/200\n",
            "1875/1875 [==============================] - 43s 23ms/step - loss: 0.0122 - accuracy: 0.9963 - val_loss: 0.0293 - val_accuracy: 0.9901\n",
            "Epoch 7/200\n",
            "1875/1875 [==============================] - 45s 24ms/step - loss: 0.0093 - accuracy: 0.9968 - val_loss: 0.0324 - val_accuracy: 0.9909\n",
            "Epoch 8/200\n",
            "1875/1875 [==============================] - 43s 23ms/step - loss: 0.0084 - accuracy: 0.9972 - val_loss: 0.0323 - val_accuracy: 0.9917\n",
            "Epoch 9/200\n",
            "1875/1875 [==============================] - 44s 23ms/step - loss: 0.0070 - accuracy: 0.9978 - val_loss: 0.0324 - val_accuracy: 0.9922\n",
            "Epoch 10/200\n",
            "1875/1875 [==============================] - 44s 23ms/step - loss: 0.0058 - accuracy: 0.9980 - val_loss: 0.0315 - val_accuracy: 0.9925\n",
            "Epoch 11/200\n",
            "1875/1875 [==============================] - 44s 24ms/step - loss: 0.0059 - accuracy: 0.9980 - val_loss: 0.0341 - val_accuracy: 0.9921\n",
            "Epoch 12/200\n",
            "1875/1875 [==============================] - 44s 23ms/step - loss: 0.0040 - accuracy: 0.9987 - val_loss: 0.0382 - val_accuracy: 0.9920\n",
            "Epoch 13/200\n",
            "1875/1875 [==============================] - 45s 24ms/step - loss: 0.0037 - accuracy: 0.9988 - val_loss: 0.0463 - val_accuracy: 0.9910\n",
            "Epoch 14/200\n",
            "1875/1875 [==============================] - 43s 23ms/step - loss: 0.0061 - accuracy: 0.9982 - val_loss: 0.0480 - val_accuracy: 0.9904\n",
            "Epoch 15/200\n",
            "1875/1875 [==============================] - 44s 23ms/step - loss: 0.0022 - accuracy: 0.9992 - val_loss: 0.0392 - val_accuracy: 0.9930\n",
            "Epoch 16/200\n",
            "1875/1875 [==============================] - 44s 24ms/step - loss: 0.0047 - accuracy: 0.9985 - val_loss: 0.0429 - val_accuracy: 0.9910\n",
            "Epoch 17/200\n",
            "1875/1875 [==============================] - 43s 23ms/step - loss: 0.0019 - accuracy: 0.9995 - val_loss: 0.0382 - val_accuracy: 0.9929\n",
            "Epoch 18/200\n",
            "1875/1875 [==============================] - 43s 23ms/step - loss: 0.0037 - accuracy: 0.9987 - val_loss: 0.0560 - val_accuracy: 0.9907\n",
            "Epoch 19/200\n",
            "1875/1875 [==============================] - 43s 23ms/step - loss: 0.0040 - accuracy: 0.9988 - val_loss: 0.0516 - val_accuracy: 0.9907\n",
            "Epoch 20/200\n",
            "1875/1875 [==============================] - 44s 24ms/step - loss: 0.0035 - accuracy: 0.9990 - val_loss: 0.0483 - val_accuracy: 0.9910\n",
            "Epoch 21/200\n",
            "1875/1875 [==============================] - 44s 23ms/step - loss: 0.0032 - accuracy: 0.9991 - val_loss: 0.0497 - val_accuracy: 0.9915\n",
            "Epoch 22/200\n",
            "1875/1875 [==============================] - 43s 23ms/step - loss: 0.0024 - accuracy: 0.9994 - val_loss: 0.0534 - val_accuracy: 0.9917\n",
            "Epoch 23/200\n",
            "1875/1875 [==============================] - 45s 24ms/step - loss: 0.0030 - accuracy: 0.9991 - val_loss: 0.0485 - val_accuracy: 0.9914\n",
            "Epoch 24/200\n",
            "1875/1875 [==============================] - 45s 24ms/step - loss: 0.0034 - accuracy: 0.9990 - val_loss: 0.0514 - val_accuracy: 0.9916\n",
            "Epoch 25/200\n",
            "1875/1875 [==============================] - 43s 23ms/step - loss: 0.0031 - accuracy: 0.9991 - val_loss: 0.0467 - val_accuracy: 0.9917\n",
            "Epoch 26/200\n",
            "1875/1875 [==============================] - 43s 23ms/step - loss: 0.0016 - accuracy: 0.9995 - val_loss: 0.0489 - val_accuracy: 0.9927\n",
            "Epoch 27/200\n",
            "1875/1875 [==============================] - 43s 23ms/step - loss: 0.0035 - accuracy: 0.9989 - val_loss: 0.0506 - val_accuracy: 0.9911\n",
            "Epoch 28/200\n",
            "1875/1875 [==============================] - 43s 23ms/step - loss: 7.9120e-04 - accuracy: 0.9998 - val_loss: 0.0633 - val_accuracy: 0.9910\n",
            "Epoch 29/200\n",
            "1875/1875 [==============================] - 44s 24ms/step - loss: 0.0041 - accuracy: 0.9988 - val_loss: 0.0586 - val_accuracy: 0.9912\n",
            "Epoch 30/200\n",
            "1875/1875 [==============================] - 43s 23ms/step - loss: 0.0022 - accuracy: 0.9994 - val_loss: 0.0579 - val_accuracy: 0.9906\n",
            "Epoch 31/200\n",
            "1875/1875 [==============================] - 43s 23ms/step - loss: 0.0035 - accuracy: 0.9991 - val_loss: 0.0669 - val_accuracy: 0.9894\n",
            "Epoch 32/200\n",
            "1875/1875 [==============================] - 44s 23ms/step - loss: 0.0034 - accuracy: 0.9990 - val_loss: 0.0739 - val_accuracy: 0.9905\n",
            "Epoch 33/200\n",
            "1875/1875 [==============================] - 45s 24ms/step - loss: 0.0015 - accuracy: 0.9995 - val_loss: 0.0712 - val_accuracy: 0.9909\n",
            "Epoch 34/200\n",
            "1875/1875 [==============================] - 43s 23ms/step - loss: 0.0033 - accuracy: 0.9988 - val_loss: 0.0668 - val_accuracy: 0.9908\n",
            "Epoch 35/200\n",
            "1875/1875 [==============================] - 43s 23ms/step - loss: 0.0031 - accuracy: 0.9992 - val_loss: 0.0627 - val_accuracy: 0.9912\n",
            "Epoch 36/200\n",
            "1875/1875 [==============================] - 43s 23ms/step - loss: 0.0015 - accuracy: 0.9996 - val_loss: 0.0842 - val_accuracy: 0.9908\n",
            "Epoch 37/200\n",
            "1875/1875 [==============================] - 43s 23ms/step - loss: 0.0023 - accuracy: 0.9994 - val_loss: 0.0679 - val_accuracy: 0.9924\n",
            "Epoch 38/200\n",
            "1875/1875 [==============================] - 45s 24ms/step - loss: 0.0012 - accuracy: 0.9996 - val_loss: 0.0810 - val_accuracy: 0.9897\n",
            "Epoch 39/200\n",
            "1875/1875 [==============================] - 43s 23ms/step - loss: 0.0023 - accuracy: 0.9994 - val_loss: 0.0795 - val_accuracy: 0.9917\n",
            "Epoch 40/200\n",
            "1875/1875 [==============================] - 43s 23ms/step - loss: 0.0032 - accuracy: 0.9992 - val_loss: 0.0623 - val_accuracy: 0.9923\n",
            "Epoch 41/200\n",
            "1875/1875 [==============================] - 43s 23ms/step - loss: 7.8510e-04 - accuracy: 0.9997 - val_loss: 0.1005 - val_accuracy: 0.9898\n",
            "Epoch 42/200\n",
            "1875/1875 [==============================] - 45s 24ms/step - loss: 0.0024 - accuracy: 0.9992 - val_loss: 0.0774 - val_accuracy: 0.9911\n",
            "Epoch 43/200\n",
            "1875/1875 [==============================] - 43s 23ms/step - loss: 0.0031 - accuracy: 0.9993 - val_loss: 0.0744 - val_accuracy: 0.9915\n",
            "Epoch 44/200\n",
            "1875/1875 [==============================] - 43s 23ms/step - loss: 0.0021 - accuracy: 0.9994 - val_loss: 0.0749 - val_accuracy: 0.9917\n",
            "Epoch 45/200\n",
            "1875/1875 [==============================] - 43s 23ms/step - loss: 0.0018 - accuracy: 0.9994 - val_loss: 0.0864 - val_accuracy: 0.9921\n",
            "Epoch 46/200\n",
            "1875/1875 [==============================] - 44s 24ms/step - loss: 0.0023 - accuracy: 0.9994 - val_loss: 0.0814 - val_accuracy: 0.9924\n",
            "Epoch 47/200\n",
            "1875/1875 [==============================] - 44s 23ms/step - loss: 0.0020 - accuracy: 0.9995 - val_loss: 0.0683 - val_accuracy: 0.9925\n",
            "Epoch 48/200\n",
            "1875/1875 [==============================] - 46s 24ms/step - loss: 0.0031 - accuracy: 0.9991 - val_loss: 0.1009 - val_accuracy: 0.9914\n",
            "Epoch 49/200\n",
            "1875/1875 [==============================] - 43s 23ms/step - loss: 0.0023 - accuracy: 0.9994 - val_loss: 0.1061 - val_accuracy: 0.9907\n",
            "Epoch 50/200\n",
            "1875/1875 [==============================] - 43s 23ms/step - loss: 0.0024 - accuracy: 0.9995 - val_loss: 0.0821 - val_accuracy: 0.9915\n",
            "Epoch 51/200\n",
            "1875/1875 [==============================] - 45s 24ms/step - loss: 0.0013 - accuracy: 0.9997 - val_loss: 0.0703 - val_accuracy: 0.9921\n",
            "Epoch 52/200\n",
            "1875/1875 [==============================] - 43s 23ms/step - loss: 0.0030 - accuracy: 0.9994 - val_loss: 0.0795 - val_accuracy: 0.9918\n",
            "Epoch 53/200\n",
            "1875/1875 [==============================] - 43s 23ms/step - loss: 0.0021 - accuracy: 0.9995 - val_loss: 0.0885 - val_accuracy: 0.9921\n",
            "Epoch 54/200\n",
            "1875/1875 [==============================] - 44s 23ms/step - loss: 0.0025 - accuracy: 0.9995 - val_loss: 0.1001 - val_accuracy: 0.9897\n",
            "Epoch 55/200\n",
            "1875/1875 [==============================] - 45s 24ms/step - loss: 0.0015 - accuracy: 0.9995 - val_loss: 0.0866 - val_accuracy: 0.9921\n",
            "Epoch 56/200\n",
            "1875/1875 [==============================] - 44s 24ms/step - loss: 0.0029 - accuracy: 0.9993 - val_loss: 0.1329 - val_accuracy: 0.9900\n",
            "Epoch 57/200\n",
            "1875/1875 [==============================] - 43s 23ms/step - loss: 7.5317e-04 - accuracy: 0.9998 - val_loss: 0.1040 - val_accuracy: 0.9923\n",
            "Epoch 58/200\n",
            "1875/1875 [==============================] - 43s 23ms/step - loss: 0.0026 - accuracy: 0.9995 - val_loss: 0.1112 - val_accuracy: 0.9911\n",
            "Epoch 59/200\n",
            "1875/1875 [==============================] - 44s 23ms/step - loss: 0.0026 - accuracy: 0.9996 - val_loss: 0.1193 - val_accuracy: 0.9903\n",
            "Epoch 60/200\n",
            "1875/1875 [==============================] - 43s 23ms/step - loss: 0.0026 - accuracy: 0.9995 - val_loss: 0.1128 - val_accuracy: 0.9914\n",
            "Epoch 61/200\n",
            "1875/1875 [==============================] - 45s 24ms/step - loss: 0.0019 - accuracy: 0.9997 - val_loss: 0.0998 - val_accuracy: 0.9930\n",
            "Epoch 62/200\n",
            "1875/1875 [==============================] - 42s 23ms/step - loss: 0.0031 - accuracy: 0.9994 - val_loss: 0.1363 - val_accuracy: 0.9904\n",
            "Epoch 63/200\n",
            "1875/1875 [==============================] - 45s 24ms/step - loss: 0.0030 - accuracy: 0.9994 - val_loss: 0.0969 - val_accuracy: 0.9920\n",
            "Epoch 64/200\n",
            "1875/1875 [==============================] - 43s 23ms/step - loss: 0.0014 - accuracy: 0.9996 - val_loss: 0.1007 - val_accuracy: 0.9915\n",
            "Epoch 65/200\n",
            "1875/1875 [==============================] - 43s 23ms/step - loss: 0.0012 - accuracy: 0.9998 - val_loss: 0.0834 - val_accuracy: 0.9933\n",
            "Epoch 66/200\n",
            "1875/1875 [==============================] - 43s 23ms/step - loss: 0.0022 - accuracy: 0.9995 - val_loss: 0.1008 - val_accuracy: 0.9920\n",
            "Epoch 67/200\n",
            "1875/1875 [==============================] - 44s 24ms/step - loss: 0.0015 - accuracy: 0.9996 - val_loss: 0.1306 - val_accuracy: 0.9908\n",
            "Epoch 68/200\n",
            "1875/1875 [==============================] - 46s 24ms/step - loss: 0.0019 - accuracy: 0.9996 - val_loss: 0.1077 - val_accuracy: 0.9920\n",
            "Epoch 69/200\n",
            "1875/1875 [==============================] - 44s 24ms/step - loss: 0.0035 - accuracy: 0.9994 - val_loss: 0.1066 - val_accuracy: 0.9918\n",
            "Epoch 70/200\n",
            "1875/1875 [==============================] - 45s 24ms/step - loss: 0.0014 - accuracy: 0.9997 - val_loss: 0.1053 - val_accuracy: 0.9916\n",
            "Epoch 71/200\n",
            "1875/1875 [==============================] - 44s 23ms/step - loss: 0.0013 - accuracy: 0.9997 - val_loss: 0.1037 - val_accuracy: 0.9928\n",
            "Epoch 72/200\n",
            "1875/1875 [==============================] - 45s 24ms/step - loss: 8.7817e-04 - accuracy: 0.9998 - val_loss: 0.1442 - val_accuracy: 0.9913\n",
            "Epoch 73/200\n",
            "1875/1875 [==============================] - 44s 23ms/step - loss: 0.0041 - accuracy: 0.9992 - val_loss: 0.1436 - val_accuracy: 0.9917\n",
            "Epoch 74/200\n",
            "1875/1875 [==============================] - 44s 23ms/step - loss: 0.0014 - accuracy: 0.9997 - val_loss: 0.1198 - val_accuracy: 0.9929\n",
            "Epoch 75/200\n",
            "1875/1875 [==============================] - 44s 23ms/step - loss: 0.0026 - accuracy: 0.9995 - val_loss: 0.1214 - val_accuracy: 0.9926\n",
            "Epoch 76/200\n",
            "1875/1875 [==============================] - 45s 24ms/step - loss: 0.0028 - accuracy: 0.9995 - val_loss: 0.1331 - val_accuracy: 0.9916\n",
            "Epoch 77/200\n",
            "1875/1875 [==============================] - 44s 24ms/step - loss: 0.0022 - accuracy: 0.9996 - val_loss: 0.1254 - val_accuracy: 0.9928\n",
            "Epoch 78/200\n",
            "1875/1875 [==============================] - 44s 23ms/step - loss: 0.0040 - accuracy: 0.9993 - val_loss: 0.1250 - val_accuracy: 0.9921\n",
            "Epoch 79/200\n",
            "1875/1875 [==============================] - 44s 23ms/step - loss: 0.0015 - accuracy: 0.9997 - val_loss: 0.1172 - val_accuracy: 0.9925\n",
            "Epoch 80/200\n",
            "1875/1875 [==============================] - 46s 24ms/step - loss: 0.0014 - accuracy: 0.9998 - val_loss: 0.1521 - val_accuracy: 0.9913\n",
            "Epoch 81/200\n",
            "1875/1875 [==============================] - 44s 23ms/step - loss: 0.0020 - accuracy: 0.9996 - val_loss: 0.1060 - val_accuracy: 0.9929\n",
            "Epoch 82/200\n",
            "1875/1875 [==============================] - 44s 23ms/step - loss: 0.0023 - accuracy: 0.9995 - val_loss: 0.1369 - val_accuracy: 0.9920\n",
            "Epoch 83/200\n",
            "1875/1875 [==============================] - 44s 23ms/step - loss: 0.0016 - accuracy: 0.9997 - val_loss: 0.1280 - val_accuracy: 0.9919\n",
            "Epoch 84/200\n",
            "1875/1875 [==============================] - 43s 23ms/step - loss: 0.0016 - accuracy: 0.9997 - val_loss: 0.1044 - val_accuracy: 0.9920\n",
            "Epoch 85/200\n",
            "1875/1875 [==============================] - 45s 24ms/step - loss: 0.0023 - accuracy: 0.9998 - val_loss: 0.1079 - val_accuracy: 0.9934\n",
            "Epoch 86/200\n",
            "1875/1875 [==============================] - 45s 24ms/step - loss: 0.0018 - accuracy: 0.9998 - val_loss: 0.1172 - val_accuracy: 0.9920\n",
            "Epoch 87/200\n",
            "1875/1875 [==============================] - 44s 24ms/step - loss: 0.0025 - accuracy: 0.9996 - val_loss: 0.1298 - val_accuracy: 0.9905\n",
            "Epoch 88/200\n",
            "1875/1875 [==============================] - 43s 23ms/step - loss: 0.0014 - accuracy: 0.9997 - val_loss: 0.1350 - val_accuracy: 0.9920\n",
            "Epoch 89/200\n",
            "1875/1875 [==============================] - 45s 24ms/step - loss: 0.0017 - accuracy: 0.9995 - val_loss: 0.1735 - val_accuracy: 0.9919\n",
            "Epoch 90/200\n",
            "1875/1875 [==============================] - 44s 24ms/step - loss: 0.0033 - accuracy: 0.9994 - val_loss: 0.1316 - val_accuracy: 0.9925\n",
            "Epoch 91/200\n",
            "1875/1875 [==============================] - 44s 23ms/step - loss: 0.0023 - accuracy: 0.9996 - val_loss: 0.1384 - val_accuracy: 0.9911\n",
            "Epoch 92/200\n",
            "1875/1875 [==============================] - 46s 24ms/step - loss: 0.0016 - accuracy: 0.9998 - val_loss: 0.1057 - val_accuracy: 0.9929\n",
            "Epoch 93/200\n",
            "1875/1875 [==============================] - 45s 24ms/step - loss: 0.0020 - accuracy: 0.9997 - val_loss: 0.1420 - val_accuracy: 0.9915\n",
            "Epoch 94/200\n",
            "1875/1875 [==============================] - 43s 23ms/step - loss: 0.0021 - accuracy: 0.9995 - val_loss: 0.1506 - val_accuracy: 0.9923\n",
            "Epoch 95/200\n",
            "1875/1875 [==============================] - 43s 23ms/step - loss: 6.2198e-04 - accuracy: 0.9999 - val_loss: 0.1358 - val_accuracy: 0.9932\n",
            "Epoch 96/200\n",
            "1875/1875 [==============================] - 43s 23ms/step - loss: 0.0030 - accuracy: 0.9996 - val_loss: 0.1461 - val_accuracy: 0.9920\n",
            "Epoch 97/200\n",
            "1875/1875 [==============================] - 44s 23ms/step - loss: 0.0012 - accuracy: 0.9998 - val_loss: 0.1125 - val_accuracy: 0.9930\n",
            "Epoch 98/200\n",
            "1875/1875 [==============================] - 45s 24ms/step - loss: 1.8927e-06 - accuracy: 1.0000 - val_loss: 0.1121 - val_accuracy: 0.9927\n",
            "Epoch 99/200\n",
            "1875/1875 [==============================] - 43s 23ms/step - loss: 5.7571e-08 - accuracy: 1.0000 - val_loss: 0.1119 - val_accuracy: 0.9927\n",
            "Epoch 100/200\n",
            "1875/1875 [==============================] - 43s 23ms/step - loss: 3.2201e-08 - accuracy: 1.0000 - val_loss: 0.1116 - val_accuracy: 0.9927\n",
            "Epoch 101/200\n",
            "1875/1875 [==============================] - 44s 23ms/step - loss: 1.7718e-08 - accuracy: 1.0000 - val_loss: 0.1114 - val_accuracy: 0.9929\n",
            "Epoch 102/200\n",
            "1875/1875 [==============================] - 45s 24ms/step - loss: 9.4870e-09 - accuracy: 1.0000 - val_loss: 0.1111 - val_accuracy: 0.9931\n",
            "Epoch 103/200\n",
            "1875/1875 [==============================] - 43s 23ms/step - loss: 4.7167e-09 - accuracy: 1.0000 - val_loss: 0.1110 - val_accuracy: 0.9932\n",
            "Epoch 104/200\n",
            "1875/1875 [==============================] - 43s 23ms/step - loss: 2.3822e-09 - accuracy: 1.0000 - val_loss: 0.1109 - val_accuracy: 0.9933\n",
            "Epoch 105/200\n",
            "1875/1875 [==============================] - 44s 23ms/step - loss: 1.3053e-09 - accuracy: 1.0000 - val_loss: 0.1110 - val_accuracy: 0.9933\n",
            "Epoch 106/200\n",
            "1875/1875 [==============================] - 45s 24ms/step - loss: 7.2916e-10 - accuracy: 1.0000 - val_loss: 0.1113 - val_accuracy: 0.9934\n",
            "Epoch 107/200\n",
            "1875/1875 [==============================] - 44s 24ms/step - loss: 4.0332e-10 - accuracy: 1.0000 - val_loss: 0.1118 - val_accuracy: 0.9934\n",
            "Epoch 108/200\n",
            "1875/1875 [==============================] - 44s 24ms/step - loss: 2.1656e-10 - accuracy: 1.0000 - val_loss: 0.1125 - val_accuracy: 0.9935\n",
            "Epoch 109/200\n",
            "1875/1875 [==============================] - 43s 23ms/step - loss: 1.2716e-10 - accuracy: 1.0000 - val_loss: 0.1134 - val_accuracy: 0.9936\n",
            "Epoch 110/200\n",
            "1875/1875 [==============================] - 44s 23ms/step - loss: 6.5565e-11 - accuracy: 1.0000 - val_loss: 0.1142 - val_accuracy: 0.9937\n",
            "Epoch 111/200\n",
            "1875/1875 [==============================] - 46s 25ms/step - loss: 3.7750e-11 - accuracy: 1.0000 - val_loss: 0.1146 - val_accuracy: 0.9937\n",
            "Epoch 112/200\n",
            "1875/1875 [==============================] - 44s 24ms/step - loss: 2.5829e-11 - accuracy: 1.0000 - val_loss: 0.1146 - val_accuracy: 0.9937\n",
            "Epoch 113/200\n",
            "1875/1875 [==============================] - 44s 23ms/step - loss: 1.5895e-11 - accuracy: 1.0000 - val_loss: 0.1147 - val_accuracy: 0.9936\n",
            "Epoch 114/200\n",
            "1875/1875 [==============================] - 44s 24ms/step - loss: 9.9341e-12 - accuracy: 1.0000 - val_loss: 0.1143 - val_accuracy: 0.9935\n",
            "Epoch 115/200\n",
            "1875/1875 [==============================] - 45s 24ms/step - loss: 1.1921e-11 - accuracy: 1.0000 - val_loss: 0.1143 - val_accuracy: 0.9935\n",
            "Epoch 116/200\n",
            "1875/1875 [==============================] - 44s 23ms/step - loss: 5.9605e-12 - accuracy: 1.0000 - val_loss: 0.1137 - val_accuracy: 0.9935\n",
            "Epoch 117/200\n",
            "1875/1875 [==============================] - 44s 23ms/step - loss: 9.9341e-12 - accuracy: 1.0000 - val_loss: 0.1133 - val_accuracy: 0.9936\n",
            "Epoch 118/200\n",
            "1875/1875 [==============================] - 45s 24ms/step - loss: 5.9605e-12 - accuracy: 1.0000 - val_loss: 0.1130 - val_accuracy: 0.9935\n",
            "Epoch 119/200\n",
            "1875/1875 [==============================] - 47s 25ms/step - loss: 3.9736e-12 - accuracy: 1.0000 - val_loss: 0.1125 - val_accuracy: 0.9935\n",
            "Epoch 120/200\n",
            "1875/1875 [==============================] - 45s 24ms/step - loss: 7.9473e-12 - accuracy: 1.0000 - val_loss: 0.1124 - val_accuracy: 0.9937\n",
            "Epoch 121/200\n",
            "1875/1875 [==============================] - 45s 24ms/step - loss: 3.9736e-12 - accuracy: 1.0000 - val_loss: 0.1120 - val_accuracy: 0.9936\n",
            "Epoch 122/200\n",
            "1875/1875 [==============================] - 44s 23ms/step - loss: 7.9473e-12 - accuracy: 1.0000 - val_loss: 0.1118 - val_accuracy: 0.9936\n",
            "Epoch 123/200\n",
            "1875/1875 [==============================] - 45s 24ms/step - loss: 5.9605e-12 - accuracy: 1.0000 - val_loss: 0.1116 - val_accuracy: 0.9936\n",
            "Epoch 124/200\n",
            "1875/1875 [==============================] - 49s 26ms/step - loss: 5.9605e-12 - accuracy: 1.0000 - val_loss: 0.1117 - val_accuracy: 0.9937\n",
            "Epoch 125/200\n",
            "1875/1875 [==============================] - 44s 23ms/step - loss: 3.9736e-12 - accuracy: 1.0000 - val_loss: 0.1114 - val_accuracy: 0.9936\n",
            "Epoch 126/200\n",
            "1875/1875 [==============================] - 44s 23ms/step - loss: 5.9605e-12 - accuracy: 1.0000 - val_loss: 0.1112 - val_accuracy: 0.9936\n",
            "Epoch 127/200\n",
            "1875/1875 [==============================] - 44s 24ms/step - loss: 1.9868e-12 - accuracy: 1.0000 - val_loss: 0.1107 - val_accuracy: 0.9936\n",
            "Epoch 128/200\n",
            "1875/1875 [==============================] - 46s 25ms/step - loss: 5.9605e-12 - accuracy: 1.0000 - val_loss: 0.1106 - val_accuracy: 0.9937\n",
            "Epoch 129/200\n",
            "1875/1875 [==============================] - 44s 23ms/step - loss: 3.9736e-12 - accuracy: 1.0000 - val_loss: 0.1104 - val_accuracy: 0.9937\n",
            "Epoch 130/200\n",
            "1875/1875 [==============================] - 44s 24ms/step - loss: 7.9473e-12 - accuracy: 1.0000 - val_loss: 0.1101 - val_accuracy: 0.9937\n",
            "Epoch 131/200\n",
            "1875/1875 [==============================] - 45s 24ms/step - loss: 3.9736e-12 - accuracy: 1.0000 - val_loss: 0.1100 - val_accuracy: 0.9937\n",
            "Epoch 132/200\n",
            "1875/1875 [==============================] - 47s 25ms/step - loss: 1.9868e-12 - accuracy: 1.0000 - val_loss: 0.1095 - val_accuracy: 0.9938\n",
            "Epoch 133/200\n",
            "1875/1875 [==============================] - 46s 25ms/step - loss: 5.9605e-12 - accuracy: 1.0000 - val_loss: 0.1094 - val_accuracy: 0.9938\n",
            "Epoch 134/200\n",
            "1875/1875 [==============================] - 45s 24ms/step - loss: 5.9605e-12 - accuracy: 1.0000 - val_loss: 0.1095 - val_accuracy: 0.9939\n",
            "Epoch 135/200\n",
            "1875/1875 [==============================] - 45s 24ms/step - loss: 1.9868e-12 - accuracy: 1.0000 - val_loss: 0.1091 - val_accuracy: 0.9939\n",
            "Epoch 136/200\n",
            "1875/1875 [==============================] - 45s 24ms/step - loss: 1.9868e-12 - accuracy: 1.0000 - val_loss: 0.1087 - val_accuracy: 0.9938\n",
            "Epoch 137/200\n",
            "1875/1875 [==============================] - 50s 27ms/step - loss: 5.9605e-12 - accuracy: 1.0000 - val_loss: 0.1087 - val_accuracy: 0.9939\n",
            "Epoch 138/200\n",
            "1875/1875 [==============================] - 47s 25ms/step - loss: 1.9868e-12 - accuracy: 1.0000 - val_loss: 0.1085 - val_accuracy: 0.9938\n",
            "Epoch 139/200\n",
            "1875/1875 [==============================] - 45s 24ms/step - loss: 3.9736e-12 - accuracy: 1.0000 - val_loss: 0.1084 - val_accuracy: 0.9938\n",
            "Epoch 140/200\n",
            "1875/1875 [==============================] - 45s 24ms/step - loss: 3.9736e-12 - accuracy: 1.0000 - val_loss: 0.1082 - val_accuracy: 0.9937\n",
            "Epoch 141/200\n",
            "1875/1875 [==============================] - 47s 25ms/step - loss: 0.0000e+00 - accuracy: 1.0000 - val_loss: 0.1078 - val_accuracy: 0.9937\n",
            "Epoch 142/200\n",
            "1875/1875 [==============================] - 45s 24ms/step - loss: 3.9736e-12 - accuracy: 1.0000 - val_loss: 0.1078 - val_accuracy: 0.9936\n",
            "Epoch 143/200\n",
            "1875/1875 [==============================] - 44s 24ms/step - loss: 3.9736e-12 - accuracy: 1.0000 - val_loss: 0.1077 - val_accuracy: 0.9936\n",
            "Epoch 144/200\n",
            "1875/1875 [==============================] - 44s 23ms/step - loss: 0.0000e+00 - accuracy: 1.0000 - val_loss: 0.1072 - val_accuracy: 0.9936\n",
            "Epoch 145/200\n",
            "1875/1875 [==============================] - 44s 23ms/step - loss: 3.9736e-12 - accuracy: 1.0000 - val_loss: 0.1072 - val_accuracy: 0.9936\n",
            "Epoch 146/200\n",
            "1875/1875 [==============================] - 46s 25ms/step - loss: 3.9736e-12 - accuracy: 1.0000 - val_loss: 0.1072 - val_accuracy: 0.9936\n",
            "Epoch 147/200\n",
            "1875/1875 [==============================] - 44s 23ms/step - loss: 0.0000e+00 - accuracy: 1.0000 - val_loss: 0.1069 - val_accuracy: 0.9937\n",
            "Epoch 148/200\n",
            "1875/1875 [==============================] - 44s 23ms/step - loss: 3.9736e-12 - accuracy: 1.0000 - val_loss: 0.1068 - val_accuracy: 0.9936\n",
            "Epoch 149/200\n",
            "1875/1875 [==============================] - 44s 23ms/step - loss: 1.9868e-12 - accuracy: 1.0000 - val_loss: 0.1067 - val_accuracy: 0.9937\n",
            "Epoch 150/200\n",
            "1875/1875 [==============================] - 44s 24ms/step - loss: 1.9868e-12 - accuracy: 1.0000 - val_loss: 0.1065 - val_accuracy: 0.9937\n",
            "Epoch 151/200\n",
            "1875/1875 [==============================] - 47s 25ms/step - loss: 1.9868e-12 - accuracy: 1.0000 - val_loss: 0.1064 - val_accuracy: 0.9936\n",
            "Epoch 152/200\n",
            "1875/1875 [==============================] - 44s 24ms/step - loss: 3.9736e-12 - accuracy: 1.0000 - val_loss: 0.1065 - val_accuracy: 0.9936\n",
            "Epoch 153/200\n",
            "1875/1875 [==============================] - 45s 24ms/step - loss: 1.9868e-12 - accuracy: 1.0000 - val_loss: 0.1064 - val_accuracy: 0.9936\n",
            "Epoch 154/200\n",
            "1875/1875 [==============================] - 44s 23ms/step - loss: 0.0000e+00 - accuracy: 1.0000 - val_loss: 0.1062 - val_accuracy: 0.9936\n",
            "Epoch 155/200\n",
            "1875/1875 [==============================] - 46s 24ms/step - loss: 0.0000e+00 - accuracy: 1.0000 - val_loss: 0.1059 - val_accuracy: 0.9936\n",
            "Epoch 156/200\n",
            "1875/1875 [==============================] - 44s 23ms/step - loss: 3.9736e-12 - accuracy: 1.0000 - val_loss: 0.1060 - val_accuracy: 0.9936\n",
            "Epoch 157/200\n",
            "1875/1875 [==============================] - 44s 24ms/step - loss: 3.9736e-12 - accuracy: 1.0000 - val_loss: 0.1059 - val_accuracy: 0.9938\n",
            "Epoch 158/200\n",
            "1875/1875 [==============================] - 44s 24ms/step - loss: 3.9736e-12 - accuracy: 1.0000 - val_loss: 0.1059 - val_accuracy: 0.9937\n",
            "Epoch 159/200\n",
            "1875/1875 [==============================] - 45s 24ms/step - loss: 1.9868e-12 - accuracy: 1.0000 - val_loss: 0.1059 - val_accuracy: 0.9938\n",
            "Epoch 160/200\n",
            "1875/1875 [==============================] - 48s 25ms/step - loss: 0.0000e+00 - accuracy: 1.0000 - val_loss: 0.1057 - val_accuracy: 0.9938\n",
            "Epoch 161/200\n",
            "1875/1875 [==============================] - 44s 24ms/step - loss: 0.0000e+00 - accuracy: 1.0000 - val_loss: 0.1055 - val_accuracy: 0.9938\n",
            "Epoch 162/200\n",
            "1875/1875 [==============================] - 44s 23ms/step - loss: 3.9736e-12 - accuracy: 1.0000 - val_loss: 0.1057 - val_accuracy: 0.9939\n",
            "Epoch 163/200\n",
            "1875/1875 [==============================] - 45s 24ms/step - loss: 0.0000e+00 - accuracy: 1.0000 - val_loss: 0.1055 - val_accuracy: 0.9939\n",
            "Epoch 164/200\n",
            "1875/1875 [==============================] - 45s 24ms/step - loss: 1.9868e-12 - accuracy: 1.0000 - val_loss: 0.1054 - val_accuracy: 0.9939\n",
            "Epoch 165/200\n",
            "1875/1875 [==============================] - 47s 25ms/step - loss: 0.0000e+00 - accuracy: 1.0000 - val_loss: 0.1053 - val_accuracy: 0.9939\n",
            "Epoch 166/200\n",
            "1875/1875 [==============================] - 47s 25ms/step - loss: 0.0000e+00 - accuracy: 1.0000 - val_loss: 0.1051 - val_accuracy: 0.9938\n",
            "Epoch 167/200\n",
            "1875/1875 [==============================] - 44s 24ms/step - loss: 1.9868e-12 - accuracy: 1.0000 - val_loss: 0.1051 - val_accuracy: 0.9939\n",
            "Epoch 168/200\n",
            "1875/1875 [==============================] - 45s 24ms/step - loss: 0.0000e+00 - accuracy: 1.0000 - val_loss: 0.1050 - val_accuracy: 0.9938\n",
            "Epoch 169/200\n",
            "1875/1875 [==============================] - 46s 25ms/step - loss: 1.9868e-12 - accuracy: 1.0000 - val_loss: 0.1051 - val_accuracy: 0.9938\n",
            "Epoch 170/200\n",
            "1875/1875 [==============================] - 44s 24ms/step - loss: 0.0000e+00 - accuracy: 1.0000 - val_loss: 0.1049 - val_accuracy: 0.9938\n",
            "Epoch 171/200\n",
            "1875/1875 [==============================] - 45s 24ms/step - loss: 1.9868e-12 - accuracy: 1.0000 - val_loss: 0.1049 - val_accuracy: 0.9938\n",
            "Epoch 172/200\n",
            "1875/1875 [==============================] - 45s 24ms/step - loss: 0.0000e+00 - accuracy: 1.0000 - val_loss: 0.1048 - val_accuracy: 0.9938\n",
            "Epoch 173/200\n",
            "1875/1875 [==============================] - 45s 24ms/step - loss: 0.0000e+00 - accuracy: 1.0000 - val_loss: 0.1047 - val_accuracy: 0.9938\n",
            "Epoch 174/200\n",
            "1875/1875 [==============================] - 44s 24ms/step - loss: 1.9868e-12 - accuracy: 1.0000 - val_loss: 0.1048 - val_accuracy: 0.9937\n",
            "Epoch 175/200\n",
            "1875/1875 [==============================] - 46s 25ms/step - loss: 0.0000e+00 - accuracy: 1.0000 - val_loss: 0.1048 - val_accuracy: 0.9938\n",
            "Epoch 176/200\n",
            "1875/1875 [==============================] - 44s 24ms/step - loss: 0.0000e+00 - accuracy: 1.0000 - val_loss: 0.1047 - val_accuracy: 0.9937\n",
            "Epoch 177/200\n",
            "1875/1875 [==============================] - 45s 24ms/step - loss: 0.0000e+00 - accuracy: 1.0000 - val_loss: 0.1046 - val_accuracy: 0.9937\n",
            "Epoch 178/200\n",
            "1875/1875 [==============================] - 44s 24ms/step - loss: 0.0000e+00 - accuracy: 1.0000 - val_loss: 0.1046 - val_accuracy: 0.9937\n",
            "Epoch 179/200\n",
            "1875/1875 [==============================] - 45s 24ms/step - loss: 0.0000e+00 - accuracy: 1.0000 - val_loss: 0.1046 - val_accuracy: 0.9937\n",
            "Epoch 180/200\n",
            "1875/1875 [==============================] - 47s 25ms/step - loss: 1.9868e-12 - accuracy: 1.0000 - val_loss: 0.1047 - val_accuracy: 0.9937\n",
            "Epoch 181/200\n",
            "1875/1875 [==============================] - 45s 24ms/step - loss: 0.0000e+00 - accuracy: 1.0000 - val_loss: 0.1048 - val_accuracy: 0.9937\n",
            "Epoch 182/200\n",
            "1875/1875 [==============================] - 45s 24ms/step - loss: 0.0000e+00 - accuracy: 1.0000 - val_loss: 0.1048 - val_accuracy: 0.9937\n",
            "Epoch 183/200\n",
            "1875/1875 [==============================] - 44s 24ms/step - loss: 0.0000e+00 - accuracy: 1.0000 - val_loss: 0.1048 - val_accuracy: 0.9937\n",
            "Epoch 184/200\n",
            "1875/1875 [==============================] - 44s 24ms/step - loss: 0.0000e+00 - accuracy: 1.0000 - val_loss: 0.1048 - val_accuracy: 0.9937\n",
            "Epoch 185/200\n",
            "1875/1875 [==============================] - 45s 24ms/step - loss: 0.0000e+00 - accuracy: 1.0000 - val_loss: 0.1048 - val_accuracy: 0.9937\n",
            "Epoch 186/200\n",
            "1875/1875 [==============================] - 45s 24ms/step - loss: 0.0000e+00 - accuracy: 1.0000 - val_loss: 0.1049 - val_accuracy: 0.9937\n",
            "Epoch 187/200\n",
            "1875/1875 [==============================] - 45s 24ms/step - loss: 0.0000e+00 - accuracy: 1.0000 - val_loss: 0.1050 - val_accuracy: 0.9937\n",
            "Epoch 188/200\n",
            "1875/1875 [==============================] - 46s 24ms/step - loss: 0.0000e+00 - accuracy: 1.0000 - val_loss: 0.1050 - val_accuracy: 0.9937\n",
            "Epoch 189/200\n",
            "1875/1875 [==============================] - 44s 24ms/step - loss: 0.0000e+00 - accuracy: 1.0000 - val_loss: 0.1051 - val_accuracy: 0.9936\n",
            "Epoch 190/200\n",
            "1875/1875 [==============================] - 45s 24ms/step - loss: 0.0000e+00 - accuracy: 1.0000 - val_loss: 0.1052 - val_accuracy: 0.9936\n",
            "Epoch 191/200\n",
            "1875/1875 [==============================] - 45s 24ms/step - loss: 0.0000e+00 - accuracy: 1.0000 - val_loss: 0.1052 - val_accuracy: 0.9936\n",
            "Epoch 192/200\n",
            "1875/1875 [==============================] - 45s 24ms/step - loss: 0.0000e+00 - accuracy: 1.0000 - val_loss: 0.1053 - val_accuracy: 0.9936\n",
            "Epoch 193/200\n",
            "1875/1875 [==============================] - 48s 26ms/step - loss: 0.0000e+00 - accuracy: 1.0000 - val_loss: 0.1053 - val_accuracy: 0.9936\n",
            "Epoch 194/200\n",
            "1875/1875 [==============================] - 45s 24ms/step - loss: 0.0000e+00 - accuracy: 1.0000 - val_loss: 0.1054 - val_accuracy: 0.9936\n",
            "Epoch 195/200\n",
            "1875/1875 [==============================] - 45s 24ms/step - loss: 0.0000e+00 - accuracy: 1.0000 - val_loss: 0.1055 - val_accuracy: 0.9936\n",
            "Epoch 196/200\n",
            "1875/1875 [==============================] - 45s 24ms/step - loss: 0.0000e+00 - accuracy: 1.0000 - val_loss: 0.1056 - val_accuracy: 0.9936\n",
            "Epoch 197/200\n",
            "1875/1875 [==============================] - 45s 24ms/step - loss: 0.0000e+00 - accuracy: 1.0000 - val_loss: 0.1057 - val_accuracy: 0.9936\n",
            "Epoch 198/200\n",
            "1875/1875 [==============================] - 45s 24ms/step - loss: 0.0000e+00 - accuracy: 1.0000 - val_loss: 0.1057 - val_accuracy: 0.9936\n",
            "Epoch 199/200\n",
            "1875/1875 [==============================] - 45s 24ms/step - loss: 0.0000e+00 - accuracy: 1.0000 - val_loss: 0.1058 - val_accuracy: 0.9936\n",
            "Epoch 200/200\n",
            "1875/1875 [==============================] - 49s 26ms/step - loss: 0.0000e+00 - accuracy: 1.0000 - val_loss: 0.1059 - val_accuracy: 0.9936\n"
          ]
        },
        {
          "output_type": "execute_result",
          "data": {
            "text/plain": [
              "<keras.callbacks.History at 0x7f1f1a5e5130>"
            ]
          },
          "metadata": {},
          "execution_count": 24
        }
      ]
    },
    {
      "cell_type": "markdown",
      "source": [
        "Guarda y descargar el modelo convolucional entrenado a 200 epochs en formato .h5:"
      ],
      "metadata": {
        "id": "04eYGYkopext"
      }
    },
    {
      "cell_type": "code",
      "source": [
        "model_conv200.save('model_convolucional200.h5')\n",
        "#files.download('model_convolucional200.h5')"
      ],
      "metadata": {
        "id": "-ugpv2iepkdQ"
      },
      "execution_count": 25,
      "outputs": []
    },
    {
      "cell_type": "markdown",
      "source": [
        "Crea el modelo convolucional para entrenarlo a 20 epochs"
      ],
      "metadata": {
        "id": "PSWo22zhKaci"
      }
    },
    {
      "cell_type": "code",
      "source": [
        "model_conv20 = Sequential([\n",
        "    Conv2D(32, kernel_size=(3, 3), activation='relu', input_shape=(28, 28, 1)),\n",
        "    MaxPooling2D(pool_size=(2, 2)),\n",
        "    Conv2D(64, kernel_size=(3, 3), activation='relu'),\n",
        "    MaxPooling2D(pool_size=(2, 2)),\n",
        "    Flatten(),\n",
        "    Dense(128, activation='relu'),\n",
        "    Dense(10, activation='softmax')\n",
        "])"
      ],
      "metadata": {
        "id": "GDqY7beBKcxv"
      },
      "execution_count": 15,
      "outputs": []
    },
    {
      "cell_type": "markdown",
      "source": [
        "Prepara los datos para el modelo convolucional:"
      ],
      "metadata": {
        "id": "WE8BE-jgKgX_"
      }
    },
    {
      "cell_type": "code",
      "source": [
        "x_train = X_train.reshape(X_train.shape[0], 28, 28, 1)\n",
        "x_test = X_test.reshape(X_test.shape[0], 28, 28, 1)"
      ],
      "metadata": {
        "id": "Q1StcVRJKjsZ"
      },
      "execution_count": 16,
      "outputs": []
    },
    {
      "cell_type": "markdown",
      "source": [
        "Compila y entrena el modelo convolucional a 20 epochs:"
      ],
      "metadata": {
        "id": "nU_p375TKnlz"
      }
    },
    {
      "cell_type": "code",
      "source": [
        "model_conv20.compile(optimizer='adam', loss='sparse_categorical_crossentropy', metrics=['accuracy'])\n",
        "model_conv20.fit(x_train, y_train, epochs=20, validation_data=(x_test, y_test))"
      ],
      "metadata": {
        "id": "SmxEWe-IKvfb",
        "colab": {
          "base_uri": "https://localhost:8080/"
        },
        "outputId": "a4ab9652-44ca-47e7-fc3a-4433c89670a9"
      },
      "execution_count": 17,
      "outputs": [
        {
          "output_type": "stream",
          "name": "stdout",
          "text": [
            "Epoch 1/20\n",
            "1875/1875 [==============================] - 48s 25ms/step - loss: 0.1302 - accuracy: 0.9595 - val_loss: 0.0514 - val_accuracy: 0.9836\n",
            "Epoch 2/20\n",
            "1875/1875 [==============================] - 45s 24ms/step - loss: 0.0432 - accuracy: 0.9863 - val_loss: 0.0321 - val_accuracy: 0.9901\n",
            "Epoch 3/20\n",
            "1875/1875 [==============================] - 43s 23ms/step - loss: 0.0308 - accuracy: 0.9902 - val_loss: 0.0340 - val_accuracy: 0.9900\n",
            "Epoch 4/20\n",
            "1875/1875 [==============================] - 45s 24ms/step - loss: 0.0209 - accuracy: 0.9936 - val_loss: 0.0305 - val_accuracy: 0.9911\n",
            "Epoch 5/20\n",
            "1875/1875 [==============================] - 45s 24ms/step - loss: 0.0164 - accuracy: 0.9947 - val_loss: 0.0433 - val_accuracy: 0.9870\n",
            "Epoch 6/20\n",
            "1875/1875 [==============================] - 46s 25ms/step - loss: 0.0128 - accuracy: 0.9959 - val_loss: 0.0373 - val_accuracy: 0.9891\n",
            "Epoch 7/20\n",
            "1875/1875 [==============================] - 43s 23ms/step - loss: 0.0103 - accuracy: 0.9965 - val_loss: 0.0450 - val_accuracy: 0.9883\n",
            "Epoch 8/20\n",
            "1875/1875 [==============================] - 44s 24ms/step - loss: 0.0082 - accuracy: 0.9973 - val_loss: 0.0384 - val_accuracy: 0.9901\n",
            "Epoch 9/20\n",
            "1875/1875 [==============================] - 45s 24ms/step - loss: 0.0067 - accuracy: 0.9979 - val_loss: 0.0409 - val_accuracy: 0.9887\n",
            "Epoch 10/20\n",
            "1875/1875 [==============================] - 44s 23ms/step - loss: 0.0069 - accuracy: 0.9979 - val_loss: 0.0586 - val_accuracy: 0.9861\n",
            "Epoch 11/20\n",
            "1875/1875 [==============================] - 45s 24ms/step - loss: 0.0060 - accuracy: 0.9977 - val_loss: 0.0315 - val_accuracy: 0.9927\n",
            "Epoch 12/20\n",
            "1875/1875 [==============================] - 43s 23ms/step - loss: 0.0048 - accuracy: 0.9982 - val_loss: 0.0566 - val_accuracy: 0.9883\n",
            "Epoch 13/20\n",
            "1875/1875 [==============================] - 44s 23ms/step - loss: 0.0054 - accuracy: 0.9981 - val_loss: 0.0382 - val_accuracy: 0.9912\n",
            "Epoch 14/20\n",
            "1875/1875 [==============================] - 44s 24ms/step - loss: 0.0035 - accuracy: 0.9988 - val_loss: 0.0385 - val_accuracy: 0.9907\n",
            "Epoch 15/20\n",
            "1875/1875 [==============================] - 49s 26ms/step - loss: 0.0041 - accuracy: 0.9987 - val_loss: 0.0379 - val_accuracy: 0.9915\n",
            "Epoch 16/20\n",
            "1875/1875 [==============================] - 46s 24ms/step - loss: 0.0038 - accuracy: 0.9987 - val_loss: 0.0649 - val_accuracy: 0.9870\n",
            "Epoch 17/20\n",
            "1875/1875 [==============================] - 45s 24ms/step - loss: 0.0042 - accuracy: 0.9986 - val_loss: 0.0419 - val_accuracy: 0.9912\n",
            "Epoch 18/20\n",
            "1875/1875 [==============================] - 46s 25ms/step - loss: 0.0034 - accuracy: 0.9990 - val_loss: 0.0442 - val_accuracy: 0.9916\n",
            "Epoch 19/20\n",
            "1875/1875 [==============================] - 48s 26ms/step - loss: 0.0029 - accuracy: 0.9990 - val_loss: 0.0536 - val_accuracy: 0.9917\n",
            "Epoch 20/20\n",
            "1875/1875 [==============================] - 44s 24ms/step - loss: 0.0037 - accuracy: 0.9987 - val_loss: 0.0544 - val_accuracy: 0.9910\n"
          ]
        },
        {
          "output_type": "execute_result",
          "data": {
            "text/plain": [
              "<keras.callbacks.History at 0x7f1f1afd4df0>"
            ]
          },
          "metadata": {},
          "execution_count": 17
        }
      ]
    },
    {
      "cell_type": "markdown",
      "source": [
        "Guarda y descargar el modelo convolucional entrenado a 20 epochs en formato .h5:"
      ],
      "metadata": {
        "id": "7q0_VUaWLBEk"
      }
    },
    {
      "cell_type": "code",
      "source": [
        "model_conv20.save('model_convolucional20.h5')\n",
        "#files.download('model_convolucional20.h5')"
      ],
      "metadata": {
        "id": "0y4T63s3LDIn"
      },
      "execution_count": 18,
      "outputs": []
    },
    {
      "cell_type": "markdown",
      "source": [
        "Verificar la ubicación de los modelos pre-entrenados guardado imprimiendo el directorio actual utilizando el siguiente comando:"
      ],
      "metadata": {
        "id": "63DQxuMAmRXZ"
      }
    },
    {
      "cell_type": "code",
      "source": [
        "import os\n",
        "print(os.getcwd())\n"
      ],
      "metadata": {
        "colab": {
          "base_uri": "https://localhost:8080/"
        },
        "id": "rv8IpysozIkC",
        "outputId": "1ba3829b-d0dc-4aa8-df58-f49de60b1b64"
      },
      "execution_count": 19,
      "outputs": [
        {
          "output_type": "stream",
          "name": "stdout",
          "text": [
            "/content\n"
          ]
        }
      ]
    },
    {
      "cell_type": "code",
      "source": [
        "!pip install tensorflowjs"
      ],
      "metadata": {
        "colab": {
          "base_uri": "https://localhost:8080/"
        },
        "id": "o31QmkxQhTMy",
        "outputId": "97fb1518-9be8-4f30-ae90-7c10e8df2688"
      },
      "execution_count": 20,
      "outputs": [
        {
          "output_type": "stream",
          "name": "stdout",
          "text": [
            "Looking in indexes: https://pypi.org/simple, https://us-python.pkg.dev/colab-wheels/public/simple/\n",
            "Requirement already satisfied: tensorflowjs in /usr/local/lib/python3.9/dist-packages (4.4.0)\n",
            "Requirement already satisfied: importlib_resources>=5.9.0 in /usr/local/lib/python3.9/dist-packages (from tensorflowjs) (5.12.0)\n",
            "Requirement already satisfied: tensorflow-decision-forests>=1.0.1 in /usr/local/lib/python3.9/dist-packages (from tensorflowjs) (1.2.0)\n",
            "Requirement already satisfied: tensorflow-hub<0.13,>=0.7.0 in /usr/local/lib/python3.9/dist-packages (from tensorflowjs) (0.12.0)\n",
            "Requirement already satisfied: packaging~=20.9 in /usr/local/lib/python3.9/dist-packages (from tensorflowjs) (20.9)\n",
            "Requirement already satisfied: jax>=0.3.16 in /usr/local/lib/python3.9/dist-packages (from tensorflowjs) (0.4.8)\n",
            "Requirement already satisfied: protobuf<3.20,>=3.9.2 in /usr/local/lib/python3.9/dist-packages (from tensorflowjs) (3.19.6)\n",
            "Requirement already satisfied: six<2,>=1.12.0 in /usr/local/lib/python3.9/dist-packages (from tensorflowjs) (1.16.0)\n",
            "Requirement already satisfied: flax>=0.6.2 in /usr/local/lib/python3.9/dist-packages (from tensorflowjs) (0.6.8)\n",
            "Requirement already satisfied: tensorflow<3,>=2.10.0 in /usr/local/lib/python3.9/dist-packages (from tensorflowjs) (2.11.1)\n",
            "Requirement already satisfied: tensorstore in /usr/local/lib/python3.9/dist-packages (from flax>=0.6.2->tensorflowjs) (0.1.35)\n",
            "Requirement already satisfied: numpy>=1.12 in /usr/local/lib/python3.9/dist-packages (from flax>=0.6.2->tensorflowjs) (1.22.4)\n",
            "Requirement already satisfied: msgpack in /usr/local/lib/python3.9/dist-packages (from flax>=0.6.2->tensorflowjs) (1.0.5)\n",
            "Requirement already satisfied: optax in /usr/local/lib/python3.9/dist-packages (from flax>=0.6.2->tensorflowjs) (0.1.4)\n",
            "Requirement already satisfied: PyYAML>=5.4.1 in /usr/local/lib/python3.9/dist-packages (from flax>=0.6.2->tensorflowjs) (6.0)\n",
            "Requirement already satisfied: rich>=11.1 in /usr/local/lib/python3.9/dist-packages (from flax>=0.6.2->tensorflowjs) (13.3.4)\n",
            "Requirement already satisfied: orbax in /usr/local/lib/python3.9/dist-packages (from flax>=0.6.2->tensorflowjs) (0.1.7)\n",
            "Requirement already satisfied: typing-extensions>=4.1.1 in /usr/local/lib/python3.9/dist-packages (from flax>=0.6.2->tensorflowjs) (4.5.0)\n",
            "Requirement already satisfied: zipp>=3.1.0 in /usr/local/lib/python3.9/dist-packages (from importlib_resources>=5.9.0->tensorflowjs) (3.15.0)\n",
            "Requirement already satisfied: ml-dtypes>=0.0.3 in /usr/local/lib/python3.9/dist-packages (from jax>=0.3.16->tensorflowjs) (0.1.0)\n",
            "Requirement already satisfied: opt-einsum in /usr/local/lib/python3.9/dist-packages (from jax>=0.3.16->tensorflowjs) (3.3.0)\n",
            "Requirement already satisfied: scipy>=1.7 in /usr/local/lib/python3.9/dist-packages (from jax>=0.3.16->tensorflowjs) (1.10.1)\n",
            "Requirement already satisfied: pyparsing>=2.0.2 in /usr/local/lib/python3.9/dist-packages (from packaging~=20.9->tensorflowjs) (3.0.9)\n",
            "Requirement already satisfied: tensorboard<2.12,>=2.11 in /usr/local/lib/python3.9/dist-packages (from tensorflow<3,>=2.10.0->tensorflowjs) (2.11.2)\n",
            "Requirement already satisfied: gast<=0.4.0,>=0.2.1 in /usr/local/lib/python3.9/dist-packages (from tensorflow<3,>=2.10.0->tensorflowjs) (0.4.0)\n",
            "Requirement already satisfied: libclang>=13.0.0 in /usr/local/lib/python3.9/dist-packages (from tensorflow<3,>=2.10.0->tensorflowjs) (16.0.0)\n",
            "Requirement already satisfied: wrapt>=1.11.0 in /usr/local/lib/python3.9/dist-packages (from tensorflow<3,>=2.10.0->tensorflowjs) (1.14.1)\n",
            "Requirement already satisfied: termcolor>=1.1.0 in /usr/local/lib/python3.9/dist-packages (from tensorflow<3,>=2.10.0->tensorflowjs) (2.2.0)\n",
            "Requirement already satisfied: keras<2.12,>=2.11.0 in /usr/local/lib/python3.9/dist-packages (from tensorflow<3,>=2.10.0->tensorflowjs) (2.11.0)\n",
            "Requirement already satisfied: astunparse>=1.6.0 in /usr/local/lib/python3.9/dist-packages (from tensorflow<3,>=2.10.0->tensorflowjs) (1.6.3)\n",
            "Requirement already satisfied: setuptools in /usr/local/lib/python3.9/dist-packages (from tensorflow<3,>=2.10.0->tensorflowjs) (67.7.2)\n",
            "Requirement already satisfied: tensorflow-estimator<2.12,>=2.11.0 in /usr/local/lib/python3.9/dist-packages (from tensorflow<3,>=2.10.0->tensorflowjs) (2.11.0)\n",
            "Requirement already satisfied: absl-py>=1.0.0 in /usr/local/lib/python3.9/dist-packages (from tensorflow<3,>=2.10.0->tensorflowjs) (1.4.0)\n",
            "Requirement already satisfied: grpcio<2.0,>=1.24.3 in /usr/local/lib/python3.9/dist-packages (from tensorflow<3,>=2.10.0->tensorflowjs) (1.53.0)\n",
            "Requirement already satisfied: flatbuffers>=2.0 in /usr/local/lib/python3.9/dist-packages (from tensorflow<3,>=2.10.0->tensorflowjs) (23.3.3)\n",
            "Requirement already satisfied: h5py>=2.9.0 in /usr/local/lib/python3.9/dist-packages (from tensorflow<3,>=2.10.0->tensorflowjs) (3.8.0)\n",
            "Requirement already satisfied: tensorflow-io-gcs-filesystem>=0.23.1 in /usr/local/lib/python3.9/dist-packages (from tensorflow<3,>=2.10.0->tensorflowjs) (0.32.0)\n",
            "Requirement already satisfied: google-pasta>=0.1.1 in /usr/local/lib/python3.9/dist-packages (from tensorflow<3,>=2.10.0->tensorflowjs) (0.2.0)\n",
            "Requirement already satisfied: wurlitzer in /usr/local/lib/python3.9/dist-packages (from tensorflow-decision-forests>=1.0.1->tensorflowjs) (3.0.3)\n",
            "Requirement already satisfied: pandas in /usr/local/lib/python3.9/dist-packages (from tensorflow-decision-forests>=1.0.1->tensorflowjs) (1.5.3)\n",
            "Requirement already satisfied: wheel in /usr/local/lib/python3.9/dist-packages (from tensorflow-decision-forests>=1.0.1->tensorflowjs) (0.40.0)\n",
            "Requirement already satisfied: markdown-it-py<3.0.0,>=2.2.0 in /usr/local/lib/python3.9/dist-packages (from rich>=11.1->flax>=0.6.2->tensorflowjs) (2.2.0)\n",
            "Requirement already satisfied: pygments<3.0.0,>=2.13.0 in /usr/local/lib/python3.9/dist-packages (from rich>=11.1->flax>=0.6.2->tensorflowjs) (2.14.0)\n",
            "Requirement already satisfied: tensorboard-data-server<0.7.0,>=0.6.0 in /usr/local/lib/python3.9/dist-packages (from tensorboard<2.12,>=2.11->tensorflow<3,>=2.10.0->tensorflowjs) (0.6.1)\n",
            "Requirement already satisfied: markdown>=2.6.8 in /usr/local/lib/python3.9/dist-packages (from tensorboard<2.12,>=2.11->tensorflow<3,>=2.10.0->tensorflowjs) (3.4.3)\n",
            "Requirement already satisfied: requests<3,>=2.21.0 in /usr/local/lib/python3.9/dist-packages (from tensorboard<2.12,>=2.11->tensorflow<3,>=2.10.0->tensorflowjs) (2.27.1)\n",
            "Requirement already satisfied: google-auth<3,>=1.6.3 in /usr/local/lib/python3.9/dist-packages (from tensorboard<2.12,>=2.11->tensorflow<3,>=2.10.0->tensorflowjs) (2.17.3)\n",
            "Requirement already satisfied: google-auth-oauthlib<0.5,>=0.4.1 in /usr/local/lib/python3.9/dist-packages (from tensorboard<2.12,>=2.11->tensorflow<3,>=2.10.0->tensorflowjs) (0.4.6)\n",
            "Requirement already satisfied: werkzeug>=1.0.1 in /usr/local/lib/python3.9/dist-packages (from tensorboard<2.12,>=2.11->tensorflow<3,>=2.10.0->tensorflowjs) (2.2.3)\n",
            "Requirement already satisfied: tensorboard-plugin-wit>=1.6.0 in /usr/local/lib/python3.9/dist-packages (from tensorboard<2.12,>=2.11->tensorflow<3,>=2.10.0->tensorflowjs) (1.8.1)\n",
            "Requirement already satisfied: jaxlib>=0.1.37 in /usr/local/lib/python3.9/dist-packages (from optax->flax>=0.6.2->tensorflowjs) (0.4.7+cuda11.cudnn86)\n",
            "Requirement already satisfied: chex>=0.1.5 in /usr/local/lib/python3.9/dist-packages (from optax->flax>=0.6.2->tensorflowjs) (0.1.7)\n",
            "Requirement already satisfied: etils in /usr/local/lib/python3.9/dist-packages (from orbax->flax>=0.6.2->tensorflowjs) (1.2.0)\n",
            "Requirement already satisfied: nest_asyncio in /usr/local/lib/python3.9/dist-packages (from orbax->flax>=0.6.2->tensorflowjs) (1.5.6)\n",
            "Requirement already satisfied: cached_property in /usr/local/lib/python3.9/dist-packages (from orbax->flax>=0.6.2->tensorflowjs) (1.5.2)\n",
            "Requirement already satisfied: pytz>=2020.1 in /usr/local/lib/python3.9/dist-packages (from pandas->tensorflow-decision-forests>=1.0.1->tensorflowjs) (2022.7.1)\n",
            "Requirement already satisfied: python-dateutil>=2.8.1 in /usr/local/lib/python3.9/dist-packages (from pandas->tensorflow-decision-forests>=1.0.1->tensorflowjs) (2.8.2)\n",
            "Requirement already satisfied: toolz>=0.9.0 in /usr/local/lib/python3.9/dist-packages (from chex>=0.1.5->optax->flax>=0.6.2->tensorflowjs) (0.12.0)\n",
            "Requirement already satisfied: dm-tree>=0.1.5 in /usr/local/lib/python3.9/dist-packages (from chex>=0.1.5->optax->flax>=0.6.2->tensorflowjs) (0.1.8)\n",
            "Requirement already satisfied: rsa<5,>=3.1.4 in /usr/local/lib/python3.9/dist-packages (from google-auth<3,>=1.6.3->tensorboard<2.12,>=2.11->tensorflow<3,>=2.10.0->tensorflowjs) (4.9)\n",
            "Requirement already satisfied: pyasn1-modules>=0.2.1 in /usr/local/lib/python3.9/dist-packages (from google-auth<3,>=1.6.3->tensorboard<2.12,>=2.11->tensorflow<3,>=2.10.0->tensorflowjs) (0.2.8)\n",
            "Requirement already satisfied: cachetools<6.0,>=2.0.0 in /usr/local/lib/python3.9/dist-packages (from google-auth<3,>=1.6.3->tensorboard<2.12,>=2.11->tensorflow<3,>=2.10.0->tensorflowjs) (5.3.0)\n",
            "Requirement already satisfied: requests-oauthlib>=0.7.0 in /usr/local/lib/python3.9/dist-packages (from google-auth-oauthlib<0.5,>=0.4.1->tensorboard<2.12,>=2.11->tensorflow<3,>=2.10.0->tensorflowjs) (1.3.1)\n",
            "Requirement already satisfied: importlib-metadata>=4.4 in /usr/local/lib/python3.9/dist-packages (from markdown>=2.6.8->tensorboard<2.12,>=2.11->tensorflow<3,>=2.10.0->tensorflowjs) (6.4.1)\n",
            "Requirement already satisfied: mdurl~=0.1 in /usr/local/lib/python3.9/dist-packages (from markdown-it-py<3.0.0,>=2.2.0->rich>=11.1->flax>=0.6.2->tensorflowjs) (0.1.2)\n",
            "Requirement already satisfied: urllib3<1.27,>=1.21.1 in /usr/local/lib/python3.9/dist-packages (from requests<3,>=2.21.0->tensorboard<2.12,>=2.11->tensorflow<3,>=2.10.0->tensorflowjs) (1.26.15)\n",
            "Requirement already satisfied: idna<4,>=2.5 in /usr/local/lib/python3.9/dist-packages (from requests<3,>=2.21.0->tensorboard<2.12,>=2.11->tensorflow<3,>=2.10.0->tensorflowjs) (3.4)\n",
            "Requirement already satisfied: charset-normalizer~=2.0.0 in /usr/local/lib/python3.9/dist-packages (from requests<3,>=2.21.0->tensorboard<2.12,>=2.11->tensorflow<3,>=2.10.0->tensorflowjs) (2.0.12)\n",
            "Requirement already satisfied: certifi>=2017.4.17 in /usr/local/lib/python3.9/dist-packages (from requests<3,>=2.21.0->tensorboard<2.12,>=2.11->tensorflow<3,>=2.10.0->tensorflowjs) (2022.12.7)\n",
            "Requirement already satisfied: MarkupSafe>=2.1.1 in /usr/local/lib/python3.9/dist-packages (from werkzeug>=1.0.1->tensorboard<2.12,>=2.11->tensorflow<3,>=2.10.0->tensorflowjs) (2.1.2)\n",
            "Requirement already satisfied: pyasn1<0.5.0,>=0.4.6 in /usr/local/lib/python3.9/dist-packages (from pyasn1-modules>=0.2.1->google-auth<3,>=1.6.3->tensorboard<2.12,>=2.11->tensorflow<3,>=2.10.0->tensorflowjs) (0.4.8)\n",
            "Requirement already satisfied: oauthlib>=3.0.0 in /usr/local/lib/python3.9/dist-packages (from requests-oauthlib>=0.7.0->google-auth-oauthlib<0.5,>=0.4.1->tensorboard<2.12,>=2.11->tensorflow<3,>=2.10.0->tensorflowjs) (3.2.2)\n"
          ]
        }
      ]
    },
    {
      "cell_type": "code",
      "source": [
        "!tensorflowjs_converter --input_format keras '/content/model_sequencial.h5' '/content/model_sequencial'"
      ],
      "metadata": {
        "colab": {
          "base_uri": "https://localhost:8080/"
        },
        "id": "CRPWA8QphYzV",
        "outputId": "df58ac2b-1c4b-4de3-f51d-8ae01fde97ba"
      },
      "execution_count": 35,
      "outputs": [
        {
          "output_type": "stream",
          "name": "stdout",
          "text": [
            "2023-04-26 03:55:41.342065: W tensorflow/compiler/xla/stream_executor/platform/default/dso_loader.cc:64] Could not load dynamic library 'libnvinfer.so.7'; dlerror: libnvinfer.so.7: cannot open shared object file: No such file or directory; LD_LIBRARY_PATH: /usr/local/nvidia/lib:/usr/local/nvidia/lib64\n",
            "2023-04-26 03:55:41.342226: W tensorflow/compiler/xla/stream_executor/platform/default/dso_loader.cc:64] Could not load dynamic library 'libnvinfer_plugin.so.7'; dlerror: libnvinfer_plugin.so.7: cannot open shared object file: No such file or directory; LD_LIBRARY_PATH: /usr/local/nvidia/lib:/usr/local/nvidia/lib64\n",
            "2023-04-26 03:55:41.342245: W tensorflow/compiler/tf2tensorrt/utils/py_utils.cc:38] TF-TRT Warning: Cannot dlopen some TensorRT libraries. If you would like to use Nvidia GPU with TensorRT, please make sure the missing libraries mentioned above are installed properly.\n",
            "WARNING:root:TensorFlow Decision Forests 1.2.0 is compatible with the following TensorFlow Versions: ['2.11.0']. However, TensorFlow 2.11.1 was detected. This can cause issues with the TF API and symbols in the custom C++ ops. See the TF and TF-DF compatibility table at https://github.com/tensorflow/decision-forests/blob/main/documentation/known_issues.md#compatibility-table.\n"
          ]
        }
      ]
    },
    {
      "cell_type": "code",
      "source": [
        "!tensorflowjs_converter --input_format keras '/content/model_convolucional.h5' '/content/model_convolucional'"
      ],
      "metadata": {
        "colab": {
          "base_uri": "https://localhost:8080/"
        },
        "id": "22lWneNRUe75",
        "outputId": "94aa4065-866e-4eb4-bc6e-5bb471edd4b1"
      },
      "execution_count": 36,
      "outputs": [
        {
          "output_type": "stream",
          "name": "stdout",
          "text": [
            "2023-04-26 03:55:53.440419: W tensorflow/compiler/xla/stream_executor/platform/default/dso_loader.cc:64] Could not load dynamic library 'libnvinfer.so.7'; dlerror: libnvinfer.so.7: cannot open shared object file: No such file or directory; LD_LIBRARY_PATH: /usr/local/nvidia/lib:/usr/local/nvidia/lib64\n",
            "2023-04-26 03:55:53.440511: W tensorflow/compiler/xla/stream_executor/platform/default/dso_loader.cc:64] Could not load dynamic library 'libnvinfer_plugin.so.7'; dlerror: libnvinfer_plugin.so.7: cannot open shared object file: No such file or directory; LD_LIBRARY_PATH: /usr/local/nvidia/lib:/usr/local/nvidia/lib64\n",
            "2023-04-26 03:55:53.440527: W tensorflow/compiler/tf2tensorrt/utils/py_utils.cc:38] TF-TRT Warning: Cannot dlopen some TensorRT libraries. If you would like to use Nvidia GPU with TensorRT, please make sure the missing libraries mentioned above are installed properly.\n",
            "WARNING:root:TensorFlow Decision Forests 1.2.0 is compatible with the following TensorFlow Versions: ['2.11.0']. However, TensorFlow 2.11.1 was detected. This can cause issues with the TF API and symbols in the custom C++ ops. See the TF and TF-DF compatibility table at https://github.com/tensorflow/decision-forests/blob/main/documentation/known_issues.md#compatibility-table.\n"
          ]
        }
      ]
    },
    {
      "cell_type": "code",
      "source": [
        "!tensorflowjs_converter --input_format keras '/content/model_convolucional200.h5' '/content/model_convolucional200'"
      ],
      "metadata": {
        "id": "B2-bjt6_qEdv",
        "colab": {
          "base_uri": "https://localhost:8080/"
        },
        "outputId": "293c36bf-6cb7-48c1-8a7f-5c2aa67e08e8"
      },
      "execution_count": 26,
      "outputs": [
        {
          "output_type": "stream",
          "name": "stdout",
          "text": [
            "2023-04-26 02:37:48.342834: W tensorflow/compiler/xla/stream_executor/platform/default/dso_loader.cc:64] Could not load dynamic library 'libnvinfer.so.7'; dlerror: libnvinfer.so.7: cannot open shared object file: No such file or directory; LD_LIBRARY_PATH: /usr/local/nvidia/lib:/usr/local/nvidia/lib64\n",
            "2023-04-26 02:37:48.342970: W tensorflow/compiler/xla/stream_executor/platform/default/dso_loader.cc:64] Could not load dynamic library 'libnvinfer_plugin.so.7'; dlerror: libnvinfer_plugin.so.7: cannot open shared object file: No such file or directory; LD_LIBRARY_PATH: /usr/local/nvidia/lib:/usr/local/nvidia/lib64\n",
            "2023-04-26 02:37:48.342992: W tensorflow/compiler/tf2tensorrt/utils/py_utils.cc:38] TF-TRT Warning: Cannot dlopen some TensorRT libraries. If you would like to use Nvidia GPU with TensorRT, please make sure the missing libraries mentioned above are installed properly.\n",
            "WARNING:root:TensorFlow Decision Forests 1.2.0 is compatible with the following TensorFlow Versions: ['2.11.0']. However, TensorFlow 2.11.1 was detected. This can cause issues with the TF API and symbols in the custom C++ ops. See the TF and TF-DF compatibility table at https://github.com/tensorflow/decision-forests/blob/main/documentation/known_issues.md#compatibility-table.\n"
          ]
        }
      ]
    },
    {
      "cell_type": "code",
      "source": [
        "!tensorflowjs_converter --input_format keras '/content/model_convolucional20.h5' '/content/model_convolucional20'"
      ],
      "metadata": {
        "id": "_ZluPLGbLbr9",
        "colab": {
          "base_uri": "https://localhost:8080/"
        },
        "outputId": "c5385388-1ac9-48f5-9be2-9ea9ccc9f003"
      },
      "execution_count": 21,
      "outputs": [
        {
          "output_type": "stream",
          "name": "stdout",
          "text": [
            "2023-04-25 23:05:23.140401: W tensorflow/compiler/xla/stream_executor/platform/default/dso_loader.cc:64] Could not load dynamic library 'libnvinfer.so.7'; dlerror: libnvinfer.so.7: cannot open shared object file: No such file or directory; LD_LIBRARY_PATH: /usr/local/nvidia/lib:/usr/local/nvidia/lib64\n",
            "2023-04-25 23:05:23.140603: W tensorflow/compiler/xla/stream_executor/platform/default/dso_loader.cc:64] Could not load dynamic library 'libnvinfer_plugin.so.7'; dlerror: libnvinfer_plugin.so.7: cannot open shared object file: No such file or directory; LD_LIBRARY_PATH: /usr/local/nvidia/lib:/usr/local/nvidia/lib64\n",
            "2023-04-25 23:05:23.140628: W tensorflow/compiler/tf2tensorrt/utils/py_utils.cc:38] TF-TRT Warning: Cannot dlopen some TensorRT libraries. If you would like to use Nvidia GPU with TensorRT, please make sure the missing libraries mentioned above are installed properly.\n",
            "WARNING:root:TensorFlow Decision Forests 1.2.0 is compatible with the following TensorFlow Versions: ['2.11.0']. However, TensorFlow 2.11.1 was detected. This can cause issues with the TF API and symbols in the custom C++ ops. See the TF and TF-DF compatibility table at https://github.com/tensorflow/decision-forests/blob/main/documentation/known_issues.md#compatibility-table.\n"
          ]
        }
      ]
    }
  ]
}